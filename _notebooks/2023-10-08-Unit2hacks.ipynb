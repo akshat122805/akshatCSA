{
 "cells": [
  {
   "cell_type": "markdown",
   "metadata": {},
   "source": [
    "---\n",
    "toc: true\n",
    "comments: true\n",
    "layout: post\n",
    "title: Unit 2 Hacks\n",
    "description: R4\n",
    "courses: { csa: {week: 3} }\n",
    "type: hacks\n",
    "---"
   ]
  },
  {
   "cell_type": "markdown",
   "metadata": {},
   "source": [
    "# Hack 1 "
   ]
  },
  {
   "cell_type": "code",
   "execution_count": null,
   "metadata": {},
   "outputs": [],
   "source": [
    "import java.util.ArrayList;\n",
    "import java.util.Scanner;\n",
    "\n",
    "public class NumberListDemo {\n",
    "    private ArrayList<Integer> numbers = new ArrayList<>();\n",
    "\n",
    "    // Method to add a number to the list\n",
    "    public void addNumber(int num) {\n",
    "        numbers.add(num);\n",
    "    }\n",
    "\n",
    "    // Method to retrieve a number from the list by its index\n",
    "    public int getNumberAtIndex(int idx) {\n",
    "        if (idx >= 0 && idx < numbers.size()) {\n",
    "            return numbers.get(idx);\n",
    "        } else {\n",
    "            return -1; // Return -1 if the index is out of bounds\n",
    "        }\n",
    "    }\n",
    "\n",
    "    public static void main(String[] args) {\n",
    "        NumberListDemo demo = new NumberListDemo();\n",
    "        Scanner inputScanner = new Scanner(System.in);\n",
    "\n",
    "        // Adding some sample numbers to the list\n",
    "        demo.addNumber(101);\n",
    "        demo.addNumber(102);\n",
    "        demo.addNumber(103);\n",
    "\n",
    "        System.out.println(\"Please provide an index to retrieve the number: \");\n",
    "        int userInput = inputScanner.nextInt();\n",
    "\n",
    "        int retrievedNumber = demo.getNumberAtIndex(userInput);\n",
    "\n",
    "        if (retrievedNumber != -1) {\n",
    "            System.out.println(\"Number at index \" + userInput + \": \" + retrievedNumber + \". Well done!\");\n",
    "        } else {\n",
    "            System.out.println(\"Oops! That's an invalid index. Please try again.\");\n",
    "        }\n",
    "\n",
    "        inputScanner.close();\n",
    "    }\n",
    "}\n",
    "\n",
    "NumberListDemo.main(null);"
   ]
  },
  {
   "cell_type": "markdown",
   "metadata": {},
   "source": [
    "# Hack 2"
   ]
  },
  {
   "cell_type": "code",
   "execution_count": 3,
   "metadata": {},
   "outputs": [
    {
     "name": "stdout",
     "output_type": "stream",
     "text": [
      "Input your guess for the POWER: \n"
     ]
    }
   ],
   "source": [
    "import java.util.Random;\n",
    "import java.util.Scanner;\n",
    "\n",
    "public class ExponentChallenge {\n",
    "    public static void main(String[] args) {\n",
    "        Scanner userInput = new Scanner(System.in);\n",
    "        Random randGenerator = new Random();\n",
    "\n",
    "        int lowerLimit = 1;\n",
    "        int upperLimit = 10;\n",
    "        int randomBase = randGenerator.nextInt(upperLimit - lowerLimit + 1) + lowerLimit; // generates random base number\n",
    "        int power = randGenerator.nextInt(5) + 1; // generates random power\n",
    "\n",
    "        System.out.println(\"Try to guess the base number and its power for a number between \" + lowerLimit + \" and \" + upperLimit + \" (Clues will be given):\");\n",
    "         \n",
    "        int tries = 0;\n",
    "        while (true) {\n",
    "            System.out.println(\"Input your guess for the BASE number: \");\n",
    "            int basePrediction = userInput.nextInt();\n",
    "\n",
    "            System.out.println(\"Input your guess for the POWER: \");\n",
    "            int powerPrediction = userInput.nextInt();\n",
    "\n",
    "            if (basePrediction == randomBase && powerPrediction == power) {\n",
    "                System.out.println(\"Well done! You've correctly identified the base number and its power.\");\n",
    "                break;\n",
    "            } else {\n",
    "                tries++;\n",
    "                System.out.println(\"That's not right. Here are some clues: \");\n",
    "                System.out.println(\"Clue 1: The base number lies between \" + lowerLimit + \" and \" + upperLimit);\n",
    "                System.out.println(\"Clue 2: The power is \" + power);\n",
    "                System.out.println(\"Number of tries: \" + tries);\n",
    "            }\n",
    "        }\n",
    "\n",
    "        userInput.close();\n",
    "    }\n",
    "}\n",
    "\n",
    "ExponentChallenge.main(null);\n"
   ]
  },
  {
   "cell_type": "markdown",
   "metadata": {},
   "source": [
    "# Hack 3"
   ]
  },
  {
   "cell_type": "code",
   "execution_count": 1,
   "metadata": {},
   "outputs": [
    {
     "name": "stdout",
     "output_type": "stream",
     "text": [
      "Choose the data type (int, boolean, string, double): \n",
      "Data type not recognized.\n"
     ]
    }
   ],
   "source": [
    "import java.util.Scanner;\n",
    "\n",
    "public class DataRetriever {\n",
    "    private int numValue;\n",
    "    private boolean flagValue;\n",
    "    private String textValue;\n",
    "    private double floatNumValue;\n",
    "\n",
    "    public DataRetriever(int numValue, boolean flagValue, String textValue, double floatNumValue) {\n",
    "        this.numValue = numValue;\n",
    "        this.flagValue = flagValue;\n",
    "        this.textValue = textValue;\n",
    "        this.floatNumValue = floatNumValue;\n",
    "    }\n",
    "\n",
    "    public static void main(String[] args) {\n",
    "        // Create a sample instance for demonstration\n",
    "        DataRetriever instance = new DataRetriever(420, false, \"Hello, World!\", 3.141592653589);\n",
    "        Scanner inputScanner = new Scanner(System.in);\n",
    "\n",
    "        // Prompt the user to choose a data type and display the corresponding value\n",
    "        System.out.println(\"Choose the data type (int, boolean, string, double): \");\n",
    "        String chosenType = inputScanner.nextLine();\n",
    "\n",
    "        // Display the value based on the chosen data type\n",
    "        switch (chosenType.toLowerCase()) {\n",
    "            case \"int\":\n",
    "                System.out.println(\"Integer Value: \" + instance.numValue);\n",
    "                break;\n",
    "            case \"boolean\":\n",
    "                System.out.println(\"Flag Value: \" + instance.flagValue);\n",
    "                break;\n",
    "            case \"string\":\n",
    "                System.out.println(\"Text Value: \" + instance.textValue);\n",
    "                break;\n",
    "            case \"double\":\n",
    "                System.out.println(\"Floating Number Value: \" + instance.floatNumValue);\n",
    "                break;\n",
    "            default:\n",
    "                System.out.println(\"Data type not recognized.\");\n",
    "        }\n",
    "\n",
    "        inputScanner.close();\n",
    "    }\n",
    "}\n",
    "\n",
    "DataRetriever.main(null);\n"
   ]
  },
  {
   "cell_type": "markdown",
   "metadata": {},
   "source": [
    "# Hack 4"
   ]
  },
  {
   "cell_type": "code",
   "execution_count": 4,
   "metadata": {},
   "outputs": [
    {
     "name": "stdout",
     "output_type": "stream",
     "text": [
      "First Name: Kaiden\n",
      "Last Name: Do\n"
     ]
    }
   ],
   "source": [
    "public class Individual {\n",
    "    private String completeName;\n",
    "\n",
    "    public Individual(String completeName) {\n",
    "        this.completeName = completeName;\n",
    "    }\n",
    "\n",
    "    public String extractFirstName() {\n",
    "        StringBuilder fName = new StringBuilder();\n",
    "        // Loop through each character until a space is found, which indicates the end of the first name\n",
    "        for (int index = 0; index < completeName.length(); index++) {\n",
    "            char character = completeName.charAt(index);\n",
    "            if (character == ' ') {\n",
    "                break; \n",
    "            }\n",
    "            fName.append(character);\n",
    "        }\n",
    "        return fName.toString();\n",
    "    }\n",
    "     \n",
    "    public String extractLastName() {\n",
    "        StringBuilder lName = new StringBuilder();\n",
    "        boolean spaceDetected = false;\n",
    "        for (int index = 0; index < completeName.length(); index++) {\n",
    "            char character = completeName.charAt(index);\n",
    "            if (spaceDetected) {\n",
    "                lName.append(character);\n",
    "            }\n",
    "            if (character == ' ') {\n",
    "                spaceDetected = true;\n",
    "            }\n",
    "        }\n",
    "        return lName.toString();\n",
    "    }\n",
    "\n",
    "    public static void main(String[] args) {\n",
    "        // Sample name for demonstration\n",
    "        Individual individual = new Individual(\"Kaiden Do\");\n",
    "\n",
    "        String fName = individual.extractFirstName();\n",
    "        String lName = individual.extractLastName();\n",
    "\n",
    "        System.out.println(\"First Name: \" + fName);\n",
    "        System.out.println(\"Last Name: \" + lName);\n",
    "    }\n",
    "}\n",
    "\n",
    "Individual.main(null);\n"
   ]
  },
  {
   "cell_type": "markdown",
   "metadata": {},
   "source": [
    "Overall, I thought the hacks were pretty good for helping solidify the Unit 2 content from the lesson. I felt that the second hack was easily the hardest one, simply because it was difficult to get the random part of it working properly."
   ]
  }
 ],
 "metadata": {
  "kernelspec": {
   "display_name": "Java",
   "language": "java",
   "name": "java"
  },
  "language_info": {
   "codemirror_mode": "java",
   "file_extension": ".jshell",
   "mimetype": "text/x-java-source",
   "name": "java",
   "pygments_lexer": "java",
   "version": "11.0.20+8-post-Ubuntu-1ubuntu120.04"
  }
 },
 "nbformat": 4,
 "nbformat_minor": 2
}
