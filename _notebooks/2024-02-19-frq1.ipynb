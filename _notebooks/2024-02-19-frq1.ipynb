{
 "cells": [
  {
   "cell_type": "markdown",
   "metadata": {},
   "source": [
    "---\n",
    "layout: post\n",
    "title: CSA Finals Week - Question 1 FRQ\n",
    "toc: true\n",
    "comments: true\n",
    "description: Proof of learning, coding, note-taking\n",
    "---"
   ]
  },
  {
   "cell_type": "markdown",
   "metadata": {},
   "source": [
    "# Question 1: Arrays & ArrayLists\n",
    "\n",
    "#### PART A: Write a static method arraySum that calculates and returns the sum of the entries in a specified one-dimensional array. The following example shows an array arr1 and the value returned by a call to arraySum.\n"
   ]
  },
  {
   "cell_type": "code",
   "execution_count": 1,
   "metadata": {
    "vscode": {
     "languageId": "java"
    }
   },
   "outputs": [
    {
     "name": "stdout",
     "output_type": "stream",
     "text": [
      "Total value of poker hand: 47\n"
     ]
    }
   ],
   "source": [
    "public class PokerHandValueCalculator {\n",
    "    public static void main(String[] args) {\n",
    "        // Array representing the values of cards in a poker hand\n",
    "        // For simplicity: 1 = Ace, 11 = Jack, 12 = Queen, 13 = King, others as is\n",
    "        int[] handValues = {1, 13, 10, 11, 12}; // Example hand: Ace, King, 10, Jack, Queen\n",
    "\n",
    "        // Calculate the total value of the hand\n",
    "        int totalHandValue = calculateHandValue(handValues);\n",
    "\n",
    "        // Print out the total value of the hand\n",
    "        System.out.println(\"Total value of poker hand: \" + totalHandValue);\n",
    "    }\n",
    "\n",
    "    /**\n",
    "     * This method calculates the total value of a poker hand.\n",
    "     * \n",
    "     * @param values Array of integers where each integer represents the value of a card in the hand.\n",
    "     * @return The total value of the hand.\n",
    "     */\n",
    "    public static int calculateHandValue(int[] values) {\n",
    "        int total = 0;\n",
    "        // Iterate through each card's value in the hand and sum them up\n",
    "        for (int value : values) {\n",
    "            total += value;\n",
    "        }\n",
    "        return total;\n",
    "    }\n",
    "}\n",
    "\n",
    "PokerHandValueCalculator.main(null);"
   ]
  },
  {
   "cell_type": "markdown",
   "metadata": {},
   "source": [
    "#### Part A Explanation \n",
    "\n",
    "In this example, the PokerHandValueCalculator class calculates the total value of a poker hand given an array of card values. The handValues array represents a hand of cards using integers. The calculateHandValue method sums these values to calculate the total value of the hand. This setup simplifies the real complexity of poker but serves as a good example of how you might start to model such a system in code. The comments explain each part of the code for clarity.\n",
    "\n"
   ]
  },
  {
   "cell_type": "markdown",
   "metadata": {},
   "source": [
    "#### PART B: Write a static method rowSums that calculates the sums of each of the rows in a given two-dimensional array and returns these sums in a one-dimensional array. The method has one parameter, a two-dimensional array arr2D of int values. The array is in row-major order: arr2D [r] [c] is the entry at row r and column c. The method returns a one-dimensional array with one entry for each row of arr2D such that each entry is the sum of the corresponding row in arr2D. As a reminder, each row of a two-dimensional array is a one-dimensional array.\n"
   ]
  },
  {
   "cell_type": "code",
   "execution_count": 2,
   "metadata": {
    "vscode": {
     "languageId": "java"
    }
   },
   "outputs": [
    {
     "name": "stdout",
     "output_type": "stream",
     "text": [
      "Total value of hand 1: 47\n",
      "Total value of hand 2: 20\n",
      "Total value of hand 3: 45\n"
     ]
    }
   ],
   "source": [
    "public class PokerHandSums {\n",
    "    public static void main(String[] args) {\n",
    "        // Two-dimensional array representing several hands of cards in a poker game\n",
    "        // Each row is a hand, and each value represents a card's value\n",
    "        // For simplicity: 1 = Ace, 11 = Jack, 12 = Queen, 13 = King, others as is\n",
    "        int[][] pokerHands = {\n",
    "            {1, 10, 11, 12, 13}, // Hand 1: Ace, 10, Jack, Queen, King\n",
    "            {2, 3, 4, 5, 6},    // Hand 2: 2, 3, 4, 5, 6\n",
    "            {7, 8, 9, 10, 11}   // Hand 3: 7, 8, 9, 10, Jack\n",
    "        };\n",
    "\n",
    "        // Calculate the total value of each hand\n",
    "        int[] handSums = calculateHandSums(pokerHands);\n",
    "\n",
    "        // Print out the total value of each hand\n",
    "        for (int i = 0; i < handSums.length; i++) {\n",
    "            System.out.println(\"Total value of hand \" + (i + 1) + \": \" + handSums[i]);\n",
    "        }\n",
    "    }\n",
    "\n",
    "    /**\n",
    "     * Calculates the sums of each of the hands in a given two-dimensional array\n",
    "     * and returns these sums in a one-dimensional array.\n",
    "     * \n",
    "     * @param hands Two-dimensional array of int values representing poker hands.\n",
    "     * @return A one-dimensional array with one entry for each hand, where each entry\n",
    "     *         is the sum of the corresponding hand in the two-dimensional array.\n",
    "     */\n",
    "    public static int[] calculateHandSums(int[][] hands) {\n",
    "        // Create a one-dimensional array to store the sum of each hand\n",
    "        int[] sums = new int[hands.length];\n",
    "\n",
    "        // Iterate through each hand\n",
    "        for (int i = 0; i < hands.length; i++) {\n",
    "            // Initialize the sum for the current hand\n",
    "            int sum = 0;\n",
    "            // Iterate through each card in the hand and add its value to the sum\n",
    "            for (int j = 0; j < hands[i].length; j++) {\n",
    "                sum += hands[i][j];\n",
    "            }\n",
    "            // Store the sum of the current hand in the sums array\n",
    "            sums[i] = sum;\n",
    "        }\n",
    "\n",
    "        return sums;\n",
    "    }\n",
    "}\n",
    "\n",
    "PokerHandSums.main(null);\n",
    "\n"
   ]
  },
  {
   "cell_type": "markdown",
   "metadata": {},
   "source": [
    "#### Part B Explanation\n",
    "\n",
    "In this example, PokerHandSums class calculates the total value of each poker hand (row) in a two-dimensional array and returns these totals in a one-dimensional array. The pokerHands array represents several hands of cards, with each row being a different hand and each column a card in that hand. The calculateHandSums method calculates the sum of the values for each hand and stores these sums in a new array, which it then returns. This code is commented to help beginners understand each step of the process.\n",
    "\n",
    "\n"
   ]
  },
  {
   "cell_type": "markdown",
   "metadata": {},
   "source": [
    "#### PART C: A two-dimensional array is diverse if no two of its rows have entries that sum to the same value. In the following examples, the array mat1 is diverse because each row sum is different, but the array mat2 is not diverse because the first and last rows have the same sum. Write a static method isDiverse that determines whether or not a given two-dimensional array is diverse. The method has one parameter: a two-dimensional array arr2D of int values. The method should return true if all the row sums in the given array are unique; otherwise, it should return false. In the arrays shown above, the call isDiverse (mat1) returns true and the call isDiverse(mat2) returns false.\n",
    "\n"
   ]
  },
  {
   "cell_type": "code",
   "execution_count": 3,
   "metadata": {
    "vscode": {
     "languageId": "java"
    }
   },
   "outputs": [
    {
     "name": "stdout",
     "output_type": "stream",
     "text": [
      "Poker session 1 is diverse: true\n",
      "Poker session 2 is diverse: false\n"
     ]
    }
   ],
   "source": [
    "import java.util.Arrays;\n",
    "\n",
    "public class PokerDiversityChecker {\n",
    "    public static void main(String[] args) {\n",
    "        // 2D arrays representing collections of poker hands\n",
    "        // Each row is a hand, and each number represents the value of a card in that hand\n",
    "        int[][] pokerSession1 = {\n",
    "            {1, 11, 10, 12, 13}, // Hand 1: Ace, Jack, 10, Queen, King\n",
    "            {2, 3, 4, 5, 6},    // Hand 2: 2, 3, 4, 5, 6\n",
    "            {7, 8, 9, 10, 11}   // Hand 3: 7, 8, 9, 10, Jack\n",
    "        };\n",
    "        \n",
    "        int[][] pokerSession2 = {\n",
    "            {1, 11, 10, 12, 13}, // Hand 1: Ace, Jack, 10, Queen, King\n",
    "            {2, 3, 4, 5, 6},    // Hand 2: 2, 3, 4, 5, 6\n",
    "            {1, 11, 10, 12, 13} // Hand 3: Another Ace, Jack, 10, Queen, King (same as Hand 1)\n",
    "        };\n",
    "        \n",
    "        // Testing isDiverse method for poker hands\n",
    "        System.out.println(\"Poker session 1 is diverse: \" + isDiverse(pokerSession1)); // Expected: true\n",
    "        System.out.println(\"Poker session 2 is diverse: \" + isDiverse(pokerSession2)); // Expected: false\n",
    "    }\n",
    "\n",
    "    // Method to determine if all poker hands in the session have unique total values\n",
    "    public static boolean isDiverse(int[][] hands) {\n",
    "        int[] handValues = rowSums(hands); // Calculate total values of each hand\n",
    "        \n",
    "        Arrays.sort(handValues); // Sort the total values\n",
    "        \n",
    "        // Check for duplicate total values\n",
    "        for (int i = 0; i < handValues.length - 1; i++) {\n",
    "            if (handValues[i] == handValues[i + 1]) {\n",
    "                return false; // Found duplicate total values, not diverse\n",
    "            }\n",
    "        }\n",
    "        \n",
    "        return true; // All total values are unique, diverse\n",
    "    }\n",
    "\n",
    "    // Calculate the total value of each hand\n",
    "    public static int[] rowSums(int[][] hands) {\n",
    "        int[] sums = new int[hands.length];\n",
    "        for (int i = 0; i < hands.length; i++) {\n",
    "            sums[i] = arraySum(hands[i]); // Sum the values of each hand\n",
    "        }\n",
    "        return sums;\n",
    "    }\n",
    "\n",
    "    // Sum the values of cards in a hand\n",
    "    public static int arraySum(int[] hand) {\n",
    "        int sum = 0;\n",
    "        for (int value : hand) {\n",
    "            sum += value;\n",
    "        }\n",
    "        return sum;\n",
    "    }\n",
    "}\n",
    "\n",
    "PokerDiversityChecker.main(null);\n"
   ]
  },
  {
   "cell_type": "markdown",
   "metadata": {},
   "source": [
    "#### Part C Explanation\n",
    "\n",
    "In this adaptation, pokerSession1 and pokerSession2 represent two sets of poker hands. The isDiverse method checks if each set of hands is unique in terms of their total card values, ensuring no two hands are the same in a session. This could be a fun way to analyze the variety in a series of poker hands, ensuring a wide range of strategies or outcomes in a game or tournament.\n",
    "\n",
    "This relates to our project due to our upcoming feature PLACEPoker. We plan to embed a multitude of games in order to build a centralized gaming platform with channels of communication."
   ]
  }
 ],
 "metadata": {
  "kernelspec": {
   "display_name": "Java",
   "language": "java",
   "name": "java"
  },
  "language_info": {
   "codemirror_mode": "java",
   "file_extension": ".jshell",
   "mimetype": "text/x-java-source",
   "name": "Java",
   "pygments_lexer": "java",
   "version": "11.0.20+8-post-Ubuntu-1ubuntu120.04"
  }
 },
 "nbformat": 4,
 "nbformat_minor": 2
}
