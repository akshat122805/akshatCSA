{
 "cells": [
  {
   "cell_type": "markdown",
   "metadata": {},
   "source": [
    "## Topics Covered\n",
    "\n",
    "- Inheritance:\n",
    "    - Extending a class.\n",
    "    - Using the super keyword.\n",
    "\n",
    "- Method Overriding:\n",
    "    - Overriding the getBookInfo method from the Book class.\n",
    "    - Object Comparison:\n",
    "    - Comparing two objects' attributes.\n",
    "\n",
    "## Common Questions\n",
    "\n",
    "- Class Extension:\n",
    "    - How to extend a class and use its attributes and methods.\n",
    "    - Method Implementation:\n",
    "    - Implementing the canSubstituteFor method to compare two Textbook objects.\n",
    "    - Method Overriding:\n",
    "    - Overriding the getBookInfo method to include edition information.\n",
    "\n",
    "# Solution"
   ]
  },
  {
   "cell_type": "code",
   "execution_count": null,
   "metadata": {
    "vscode": {
     "languageId": "java"
    }
   },
   "outputs": [],
   "source": [
    "public class Textbook extends Book {\n",
    "    private int edition;\n",
    "\n",
    "    public Textbook(String bookTitle, double bookPrice, int edition) {\n",
    "        super(bookTitle, bookPrice);\n",
    "        this.edition = edition;\n",
    "    }\n",
    "\n",
    "    public int getEdition() {\n",
    "        return edition;\n",
    "    }\n",
    "\n",
    "    @Override\n",
    "    public String getBookInfo() {\n",
    "        return super.getBookInfo() + \"-\" + edition;\n",
    "    }\n",
    "\n",
    "    public boolean canSubstituteFor(Textbook other) {\n",
    "        return this.getTitle().equals(other.getTitle()) && this.edition >= other.edition;\n",
    "    }\n",
    "}\n"
   ]
  },
  {
   "cell_type": "markdown",
   "metadata": {},
   "source": [
    "### 1a) Inheritance and Constructor:\n",
    "\n",
    "- The Textbook class extends the Book class, meaning it inherits all attributes and methods of the Book class.\n",
    "   \n",
    "- The constructor of the Textbook class takes in the title, price, and edition of the textbook. It uses the super keyword to call the constructor of the parent Book class for the title and price. The edition is then set for the Textbook object.\n",
    "\n",
    "- Mistake: Initially, I might have forgotten to override the getBookInfo method to include the edition information.\n",
    "\n",
    "- Correction: Overrode the getBookInfo method to return the book info along with the edition."
   ]
  },
  {
   "cell_type": "code",
   "execution_count": null,
   "metadata": {
    "vscode": {
     "languageId": "java"
    }
   },
   "outputs": [],
   "source": [
    "public class Textbook extends Book {\n",
    "    private int edition;\n",
    "\n",
    "    public Textbook(String bookTitle, double bookPrice, int edition) {\n",
    "        super(bookTitle, bookPrice);  // Calls the constructor of the superclass (Book)\n",
    "        this.edition = edition;\n",
    "    }\n",
    "\n",
    "    /**\n",
    "     * Updates the edition of the textbook.\n",
    "     * \n",
    "     * @param newEdition The new edition number.\n",
    "     */\n",
    "    public void setEdition(int newEdition) {\n",
    "        this.edition = newEdition;\n",
    "    }\n",
    "\n",
    "    /**\n",
    "     * Increases the price of the textbook by a given percentage.\n",
    "     * \n",
    "     * @param percentage The percentage by which to increase the price.\n",
    "     */\n",
    "    public void increasePrice(double percentage) {\n",
    "        double increaseAmount = super.getPrice() * (percentage / 100);\n",
    "        super.setPrice(super.getPrice() + increaseAmount);\n",
    "    }\n",
    "\n",
    "    /**\n",
    "     * Checks if the textbook edition is recent.\n",
    "     * \n",
    "     * @return true if the edition number is greater than 5, false otherwise.\n",
    "     */\n",
    "    public boolean isRecentEdition() {\n",
    "        return this.edition > 5;\n",
    "    }\n",
    "\n",
    "    /**\n",
    "     * This method overrides the getBookInfo method of the superclass (Book).\n",
    "     * It appends the edition information to the result of the superclass's getBookInfo method.\n",
    "     * \n",
    "     * @return A string containing the title, price, and edition of the textbook.\n",
    "     */\n",
    "    @Override\n",
    "    public String getBookInfo() {\n",
    "        return super.getBookInfo() + \"-\" + edition;\n",
    "    }\n",
    "}\n"
   ]
  },
  {
   "cell_type": "markdown",
   "metadata": {},
   "source": [
    "### 2a) Method Overriding:\n",
    "\n",
    "- The getBookInfo method is overridden in the Textbook class to include the edition information. The super.getBookInfo() call is used to get the book info from the parent Book class, and then the edition is appended to it.\n",
    "\n",
    "- Mistake: I might have used == for string comparison in the canSubstituteFor method.\n",
    "- Correction: Used the equals method for string comparison to ensure the titles of the textbooks are compared correctly.\n",
    "\n",
    "\n",
    "### 3a) Object Comparison:\n",
    "\n",
    "- The canSubstituteFor method is implemented to check if the current textbook can substitute for another textbook. It checks if the titles of the two textbooks are the same and if the edition of the current textbook is greater than or equal to the edition of the other textbook.\n",
    "\n",
    "Mistake: None"
   ]
  },
  {
   "cell_type": "markdown",
   "metadata": {},
   "source": [
    "<img src=\"{{ site.baseurl }}/images/FRQ1.png\" alt=\"My freeform picture\">\n",
    "\n",
    "<img src=\"{{ site.baseurl }}/images/FRQ2.png\" alt=\"My freeform picture2\">\n",
    "\n"
   ]
  }
 ],
 "metadata": {
  "kernelspec": {
   "display_name": "Java",
   "language": "java",
   "name": "java"
  },
  "language_info": {
   "codemirror_mode": "java",
   "file_extension": ".jshell",
   "mimetype": "text/x-java-source",
   "name": "Java",
   "pygments_lexer": "java",
   "version": "11.0.20+8-post-Ubuntu-1ubuntu120.04"
  },
  "orig_nbformat": 4
 },
 "nbformat": 4,
 "nbformat_minor": 2
}
