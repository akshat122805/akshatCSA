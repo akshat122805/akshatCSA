{
 "cells": [
  {
   "cell_type": "markdown",
   "metadata": {},
   "source": [
    "---\n",
    "layout: post\n",
    "title: Student Review - Blog 1 | MortCanvas Student User\n",
    "description: Detailed documentation on the thought process and contribution of feature for my group and the overall Mortensen Canvas vision.\n",
    "toc: true\n",
    "---"
   ]
  },
  {
   "cell_type": "markdown",
   "metadata": {},
   "source": [
    "# Initial Requirements\n",
    "\n",
    "As I took responsibility of developing and scheming the CSCanvasHub, I went and used design programs like Figma, which helped me envision of what the student would need to see when logging in. After detailed conversations with Mr. Mortensen, he emphasized the need for the student to use the original CS blog post to retain to if they had some issue, however, access was an issue, and therefore the requirement of our new idea being disruptive yet also having the original source being integrated came up.  The initial requirement was to create an \"Assignment Selector\" web page where users could select a week and view the corresponding assignment details in an iframe. The page was designed with a simple layout, using the Roboto font for a clean appearance. The assignments for each week were hard-coded into a JavaScript object, and the iframe would load the content based on the selected week.\n",
    "\n",
    "<img src=\"{{ site.baseurl }}/images/mortcanvas.png\" alt=\"mortcanvas\">\n",
    "\n",
    "I began to implement my figma designs into code, below you will see snippets of the exact functionality I used.\n"
   ]
  },
  {
   "cell_type": "code",
   "execution_count": null,
   "metadata": {
    "vscode": {
     "languageId": "javascript"
    }
   },
   "outputs": [],
   "source": [
    "var weekDetails = {\n",
    "    \"week1\": {\n",
    "        \"details\": \"Week 1: Java Hello, Java Console Games, Linux Shell and Bash\",\n",
    "        \"iframeURL\": \"https://nighthawkcoders.github.io/teacher//c4.0/2023/08/15/java-hello_IPYNB_2_.html\"\n",
    "    },\n",
    "    // ... other weeks ...\n",
    "};"
   ]
  },
  {
   "cell_type": "markdown",
   "metadata": {},
   "source": [
    "<img src=\"{{ site.baseurl }}/images/iframe.png\" alt=\"iframe\">"
   ]
  },
  {
   "cell_type": "markdown",
   "metadata": {},
   "source": [
    "# Enhancement - Freeform Iframe Feature\n",
    "\n",
    "Upon review, it was suggested to make the iframe \"freeform\", meaning users should have the option to view or hide the iframe content. This was achieved by adding a toggle button with a blue arrow. When clicked, this button would either display or hide the iframe. The arrow would also change direction to indicate the current state of the iframe (collapsed or expanded). This was because after consulting with Mr. Mortensen, it seemed clear that he didn't want the user to be suddenly flashed with another copy of his blog. Because of this, I decided to give the user to option on if they wanted to view the iFrame or not, allowing them to have total control and access of what they wanted.\n",
    "\n",
    "Below you will see a code snippet outlining the free-form, after that you will see the output of the mechanism:"
   ]
  },
  {
   "cell_type": "code",
   "execution_count": null,
   "metadata": {
    "vscode": {
     "languageId": "javascript"
    }
   },
   "outputs": [],
   "source": [
    "function toggleIframe() {\n",
    "    var iframe = document.getElementById('assignmentIframe');\n",
    "    var arrow = document.getElementById('iframeArrow');\n",
    "    if (iframe.style.display === \"none\") {\n",
    "        iframe.style.display = \"block\";\n",
    "        arrow.innerHTML = \"➘\";\n",
    "    } else {\n",
    "        iframe.style.display = \"none\";\n",
    "        arrow.innerHTML = \"➤\";\n",
    "    }\n",
    "}"
   ]
  },
  {
   "cell_type": "markdown",
   "metadata": {},
   "source": [
    "<img src=\"{{ site.baseurl }}/images/freeform.png\" alt=\"freeform\">"
   ]
  },
  {
   "cell_type": "markdown",
   "metadata": {},
   "source": [
    "# Addition of Metadata\n",
    "\n",
    "As a team we collectively decided that the user would be more satisfied and content if they immediately knew what the requirements and objectives for the week were, rather than scrolling all the way through the blog in order to find out. Metadata would include additional information like \"Hacks\", \"Due Date\", and \"Overall Assignment Objective\". To accommodate this, the JavaScript object was expanded to include a metadata section for each week. When a week was selected, the metadata would be displayed below the assignment details.\n",
    "\n",
    "Below you will see a code snippet outlining the meta data feature, after that you will see the output of the mechanism:"
   ]
  },
  {
   "cell_type": "code",
   "execution_count": null,
   "metadata": {
    "vscode": {
     "languageId": "javascript"
    }
   },
   "outputs": [],
   "source": [
    "\"week1\": {\n",
    "    \"details\": \"...\",\n",
    "    \"iframeURL\": \"...\",\n",
    "    \"metadata\": {\n",
    "        \"Hacks\": \"Build your own Jupyter Notebook meeting specific competencies.\",\n",
    "        \"Due Date\": \"August 22, 2023\",\n",
    "        \"Overall Assignment Objective\": \"Introduction to Java basics and Linux Shell.\"\n",
    "    }\n",
    "},\n",
    "// Format of the meta-data, THEN TRANSPORTED TO LIQUID"
   ]
  },
  {
   "cell_type": "markdown",
   "metadata": {},
   "source": [
    "<img src=\"{{ site.baseurl }}/images/markdown.png\" alt=\"markdown\">"
   ]
  },
  {
   "cell_type": "markdown",
   "metadata": {},
   "source": [
    "# Debugging and Iterative Development\n",
    "\n",
    "uring the development of the MortCanvas Assignment Selector, one of the primary challenges faced was ensuring the seamless integration of dynamic content loading. The iframe, which was responsible for displaying the assignment details, occasionally failed to load the intended content. Similarly, there were instances where the metadata associated with a particular week did not render as anticipated. These inconsistencies posed a significant challenge, as they directly impacted the user experience.\n",
    "\n",
    "### Identifying the Problem:\n",
    "The first step in addressing these issues was to pinpoint the exact nature of the problem. Was the iframe not loading due to an incorrect URL? Was the metadata not displaying because of a misconfiguration in the data structure or a flaw in the rendering logic?"
   ]
  },
  {
   "cell_type": "code",
   "execution_count": null,
   "metadata": {
    "vscode": {
     "languageId": "javascript"
    }
   },
   "outputs": [],
   "source": [
    "var selectedWeek = weekSelector.value;\n",
    "var iframeURL = weekDetails[selectedWeek] ? weekDetails[selectedWeek].iframeURL : \"\";"
   ]
  },
  {
   "cell_type": "markdown",
   "metadata": {},
   "source": [
    "The above snippet was crucial as it determined the URL that the iframe would load. Any discrepancies in this logic could lead to the iframe not displaying the intended content.\n",
    "\n",
    "### Implementing Diagnostic Tools:\n",
    "To gain better visibility into the flow of data and the behavior of the functions, console logs were strategically placed throughout the code. This allowed for real-time monitoring of variable values, function calls, and data flow."
   ]
  },
  {
   "cell_type": "code",
   "execution_count": null,
   "metadata": {
    "vscode": {
     "languageId": "javascript"
    }
   },
   "outputs": [],
   "source": [
    "console.log(\"Selected Week:\", selectedWeek);\n",
    "console.log(\"Intended Iframe URL:\", iframeURL);"
   ]
  },
  {
   "cell_type": "markdown",
   "metadata": {},
   "source": [
    "By observing these logs, it was possible to trace the sequence of events leading up to the display of the iframe and metadata. If the iframeURL was incorrect or not what was expected, it indicated a potential issue in the data retrieval or assignment logic.\n",
    "\n",
    "### Cross-referencing with Data Structures:\n",
    "The JavaScript object weekDetails was the backbone of the entire functionality. It stored the details, metadata, and iframe URLs for each week. Ensuring the integrity and correctness of this data structure was paramount.\n",
    "\n",
    "By cross-referencing the intended outputs with the actual values stored in weekDetails, it was possible to identify mismatches or errors in data assignment.\n",
    "\n",
    "### Refining the Rendering Logic:\n",
    "The logic responsible for rendering the metadata was scrutinized. Each key-value pair in the metadata object was supposed to be displayed in a user-friendly format."
   ]
  },
  {
   "cell_type": "code",
   "execution_count": null,
   "metadata": {
    "vscode": {
     "languageId": "javascript"
    }
   },
   "outputs": [],
   "source": [
    "var metadataDiv = document.getElementById('metadata');\n",
    "for (var key in metadata) {\n",
    "    metadataDiv.innerHTML += \"<strong>\" + key + \":</strong> \" + metadata[key] + \"<br>\";\n",
    "}\n"
   ]
  },
  {
   "cell_type": "markdown",
   "metadata": {},
   "source": [
    "Ensuring that this loop executed correctly and accessed the right metadata was essential for accurate display.\n",
    "\n",
    "After a thorough debugging process, the issues with the iframe and metadata display were resolved. The console logs, which served as invaluable diagnostic tools, were eventually removed to clean up the code and optimize performance. The end result was a robust and reliable Assignment Selector that delivered a consistent user experience."
   ]
  }
 ],
 "metadata": {
  "kernelspec": {
   "display_name": "base",
   "language": "python",
   "name": "python3"
  },
  "language_info": {
   "codemirror_mode": {
    "name": "ipython",
    "version": 3
   },
   "file_extension": ".py",
   "mimetype": "text/x-python",
   "name": "python",
   "nbconvert_exporter": "python",
   "pygments_lexer": "ipython3",
   "version": "3.9.12"
  }
 },
 "nbformat": 4,
 "nbformat_minor": 2
}
