{
 "cells": [
  {
   "cell_type": "markdown",
   "metadata": {},
   "source": [
    "---\n",
    "layout: post\n",
    "title: CSA Workshop 3 and 4 Hacks\n",
    "toc: true\n",
    "comments: true\n",
    "description: \n",
    "courses: { csa: {week: 36} }\n",
    "type: tangibles\n",
    "---"
   ]
  },
  {
   "cell_type": "markdown",
   "metadata": {},
   "source": [
    "# Arrays"
   ]
  },
  {
   "cell_type": "markdown",
   "metadata": {},
   "source": [
    "## Required: 2015 Free Response Question #1, Part A"
   ]
  },
  {
   "cell_type": "markdown",
   "metadata": {},
   "source": [
    "(A) Write a static method arraySum that calculates and returns the sum of the entries in a specified one-dimensional array. The following example shows an array arr1 and the value returned by a call to arraySum."
   ]
  },
  {
   "cell_type": "code",
   "execution_count": 1,
   "metadata": {
    "vscode": {
     "languageId": "java"
    }
   },
   "outputs": [
    {
     "name": "stdout",
     "output_type": "stream",
     "text": [
      "Original array elements: 1 2 3 3 7 \n",
      "Array Sum: 16\n"
     ]
    }
   ],
   "source": [
    "public class ArrayPartA {\n",
    "    public static int arraySum(int[] arr) {\n",
    "        System.out.print(\"Original array elements: \");\n",
    "        for (int i = 0; i < arr.length; i++) {\n",
    "            System.out.print(arr[i] + \" \");\n",
    "        }\n",
    "        System.out.println(); \n",
    "\n",
    "        int sum = 0;\n",
    "        for (int i = 0; i < arr.length; i++) {\n",
    "            sum += arr[i];\n",
    "        }\n",
    "        return sum;\n",
    "    }\n",
    "\n",
    "    public static void main(String[] args) {\n",
    "        int[] array = {1, 2, 3, 3, 7};\n",
    "        System.out.println(\"Array Sum: \" + arraySum(array));\n",
    "\n",
    "    }\n",
    "}\n",
    "\n",
    "ArrayPartA.main(null);"
   ]
  },
  {
   "cell_type": "markdown",
   "metadata": {},
   "source": [
    "## Optional: Demonstrating Common Errors"
   ]
  },
  {
   "cell_type": "markdown",
   "metadata": {},
   "source": [
    "**Off by One Error**"
   ]
  },
  {
   "cell_type": "code",
   "execution_count": null,
   "metadata": {
    "vscode": {
     "languageId": "java"
    }
   },
   "outputs": [],
   "source": [
    "public class OffbyOneError {\n",
    "    public static void main(String[] args) {\n",
    "        int[] array = {1, 2, 3, 4, 5};\n",
    "\n",
    "        for (int i = 0; i <= array.length; i++) {\n",
    "            System.out.println(array[i]);\n",
    "        }\n",
    "    }\n",
    "}\n",
    "\n",
    "OffbyOneError.main(null);"
   ]
  },
  {
   "cell_type": "markdown",
   "metadata": {},
   "source": [
    "EXPLANATION: The issue here is that we are iterating up to the array length by doing i <= array.length. It should be i < array.length. Java index starts at 0 and goes up to the length of the array - 1, not the actual length of the array. Therefore, we get an ArrayIndexOutofBoundsException."
   ]
  },
  {
   "cell_type": "markdown",
   "metadata": {},
   "source": [
    "<br>"
   ]
  },
  {
   "cell_type": "markdown",
   "metadata": {},
   "source": [
    "**Modifying Array Length**"
   ]
  },
  {
   "cell_type": "code",
   "execution_count": 3,
   "metadata": {
    "vscode": {
     "languageId": "java"
    }
   },
   "outputs": [
    {
     "name": "stdout",
     "output_type": "stream",
     "text": [
      "1\n",
      "2\n",
      "3\n"
     ]
    }
   ],
   "source": [
    "public class ModifyingArrayLength {\n",
    "    public static void main(String[] args) {\n",
    "        int[] array = {1, 2, 3, 4, 5};\n",
    "\n",
    "        for (int i = 0; i < array.length; i++) {\n",
    "            System.out.println(array[i]);\n",
    "            if (i == 2) {\n",
    "                array = new int[3];\n",
    "            }\n",
    "        }\n",
    "    }\n",
    "}\n",
    "\n",
    "ModifyingArrayLength.main(null);"
   ]
  },
  {
   "cell_type": "markdown",
   "metadata": {},
   "source": [
    "EXPLANATION: Though this does not actually output a runtime error, this is still bad practice. When 'i' becomes 2, the code tries to modify the length of the array, which creates an error because the length of an array in Java can't be changed after it is created. "
   ]
  },
  {
   "cell_type": "markdown",
   "metadata": {},
   "source": [
    "<br>\n",
    "<br>\n",
    "<br>\n",
    "<br>\n",
    "<br>"
   ]
  },
  {
   "cell_type": "markdown",
   "metadata": {},
   "source": [
    "# ArrayLists"
   ]
  },
  {
   "cell_type": "markdown",
   "metadata": {},
   "source": [
    "## Popcorn Hacks"
   ]
  },
  {
   "cell_type": "markdown",
   "metadata": {},
   "source": [
    "1. ArrayLists are **dynamic**, meaning their size can grow or shrink as needed, but arrays are static in size.\n",
    "\n",
    "<br>\n",
    "\n",
    "2. ArrayList objects are created in the same fashion as other object classes. The primary difference with ArrayLists is that the element type of the ArrayList must be specified using angled brackets <>. In this example, E represents the data type that will be used in the ArrayList. This notation is called the **generic** type. This can be replaced by an object data type."
   ]
  },
  {
   "cell_type": "markdown",
   "metadata": {},
   "source": [
    "3. Create 2 ArrayLists, 1 called studentName and 1 called studentAge"
   ]
  },
  {
   "cell_type": "code",
   "execution_count": 4,
   "metadata": {
    "vscode": {
     "languageId": "java"
    }
   },
   "outputs": [
    {
     "name": "stdout",
     "output_type": "stream",
     "text": [
      "Student Names: [Rohin, Vishnu, Akshat]\n",
      "Student Ages: [16, 18, 18]\n"
     ]
    }
   ],
   "source": [
    "import java.util.ArrayList;\n",
    "\n",
    "\n",
    "public class Student {\n",
    "    public static void main(String[] args) {\n",
    "        ArrayList<String> studentName = new ArrayList<>();\n",
    "        ArrayList<Integer> studentAge = new ArrayList<>();\n",
    "\n",
    "        studentName.add(\"Rohin\");\n",
    "        studentName.add(\"Vishnu\");\n",
    "        studentName.add(\"Akshat\");\n",
    "\n",
    "        studentAge.add(16);\n",
    "        studentAge.add(18);\n",
    "        studentAge.add(18);\n",
    "\n",
    "        System.out.println(\"Student Names: \" + studentName);\n",
    "        System.out.println(\"Student Ages: \" + studentAge);\n",
    "\n",
    "    }\n",
    "}\n",
    "\n",
    "Student.main(null);"
   ]
  },
  {
   "cell_type": "code",
   "execution_count": 5,
   "metadata": {
    "vscode": {
     "languageId": "java"
    }
   },
   "outputs": [
    {
     "name": "stdout",
     "output_type": "stream",
     "text": [
      "[Hello, Hola, Hello, HeLLO, Hello, Hello]\n"
     ]
    }
   ],
   "source": [
    "ArrayList<String> g = new ArrayList<>();\n",
    "\n",
    "g.add(\"Hello\");\n",
    "g.add(\"Hello\");\n",
    "g.add(\"HeLLO\");\n",
    "g.add(\"Hello\");\n",
    "g.add(1, \"Hola\");\n",
    "\n",
    "g.add(new String(\"Hello\"));\n",
    "\n",
    "System.out.println(g);"
   ]
  },
  {
   "cell_type": "markdown",
   "metadata": {},
   "source": [
    "4. Why does this code work? \n",
    "\n",
    "*ANSWER*: The correct data type \"String\" is added into the ArrayList, which is why the code is printed correctly."
   ]
  },
  {
   "cell_type": "markdown",
   "metadata": {},
   "source": [
    "# 7.2 HACKS"
   ]
  },
  {
   "cell_type": "markdown",
   "metadata": {},
   "source": [
    "1. The learning objective is that \"Students will be able to represent collections of related object reference data using ArrayList objects.\" What does this mean to you?\n",
    "\n",
    "**ArrayLists are used to store collections of objects, where the objects are related in some way, such as being of the same type or representing similar objects in a system. ArrayLists hold references to objects rather than the objects themselves - this allows for the manipulation of objects through these references.**\n",
    "\n",
    "<br>\n",
    "<br>\n",
    "\n",
    "2. Look back at Size of the ArrayList. What does the code output and why?\n",
    "\n",
    "**The code looks at the literal size of the list, which is how many elements are present in it.**\n",
    "\n",
    "<br>\n",
    "<br>\n",
    "\n",
    "3. Look back at Adding items to an ArrayList. What does the code output and why? What type of function is void, and what will be the return value?\n",
    "\n",
    "**The code returns the arraylist with all of its elements that were previously added. A void function is void, it does not return anything.**\n",
    "\n",
    "<br>\n",
    "<br>\n",
    "\n",
    "4. Look back at Example 1. What two lines did we remove? Why?\n",
    "\n",
    "**We removed the lines that were trying to add a double and boolean value to the ArrayList - these were removed because the only valid data type was a string.**\n",
    "\n",
    "<br>\n",
    "<br>\n",
    "\n",
    "5. If an ArrayList is being used as a parameter, what are the only two methods I can use from it? What would happen if I tried to use any other methods?\n",
    "\n",
    "**Get and size are the only two methods that can be used. Any other methods will only update the local array and not the actual array.**\n"
   ]
  },
  {
   "cell_type": "code",
   "execution_count": 6,
   "metadata": {
    "vscode": {
     "languageId": "java"
    }
   },
   "outputs": [
    {
     "name": "stdout",
     "output_type": "stream",
     "text": [
      "Items added: 10, 20\n",
      "Item removed: 20\n",
      "Item replaced: 10 with 30\n",
      "First element: 30\n",
      "Last element: 30\n",
      "List size: 1\n"
     ]
    }
   ],
   "source": [
    "import java.util.ArrayList;\n",
    "\n",
    "public class HackHelper {\n",
    "    private String manipulateList(ArrayList<Integer> array) {\n",
    "        array.add(10);\n",
    "        array.add(20);\n",
    "\n",
    "        array.remove(1);\n",
    "\n",
    "        array.set(0,30);\n",
    "\n",
    "        int firstElement = array.get(0);\n",
    "        int lastElement = array.get(array.size() - 1);\n",
    "        return \"Items added: 10, 20\\nItem removed: 20\\nItem replaced: 10 with 30\\nFirst element: \" + firstElement + \"\\nLast element: \" + lastElement + \"\\nList size: \" + array.size();\n",
    "    }\n",
    "\n",
    "    public static void main (String[] args) {\n",
    "        HackHelper helper = new HackHelper();\n",
    "        ArrayList<Integer> list = new ArrayList<>();\n",
    "        System.out.println(helper.manipulateList(list));\n",
    "\n",
    "    }\n",
    "}\n",
    "\n",
    "HackHelper.main(null);"
   ]
  },
  {
   "cell_type": "markdown",
   "metadata": {},
   "source": [
    "# 7.3 Traversing ArrayLists"
   ]
  },
  {
   "cell_type": "markdown",
   "metadata": {},
   "source": [
    "The indices of an ArrayList start at **0**; if you try to use any value lower than 0, you will get an **IndexOutOfBoundsException** error."
   ]
  },
  {
   "cell_type": "markdown",
   "metadata": {},
   "source": [
    "<br>"
   ]
  },
  {
   "cell_type": "markdown",
   "metadata": {},
   "source": [
    "# 7.4 Developing Algorithms Using ArrayLists"
   ]
  },
  {
   "cell_type": "markdown",
   "metadata": {},
   "source": [
    "**Based on the code, the algorithm is being developed to find the maximum value of the list.**  "
   ]
  },
  {
   "cell_type": "markdown",
   "metadata": {},
   "source": [
    "1. Look back at the examples. What's similar? What's different?\n",
    "\n",
    "**In the examples, multiple similar ArrayList methods are being used, such as .get. Each of the code blocks has a different function and is attempting to output a different value.**\n",
    "\n",
    "<br>\n",
    "<br>\n",
    "\n",
    "2. Why do we use ArrayList? Why not just regular lists?\n",
    "\n",
    "**Regular lists have a fixed size in Java, while ArrayLists do not.**\n",
    "\n",
    "\n",
    "<br>\n",
    "<br>\n",
    "\n",
    "3. Demonstrate at least two ArrayList methods that aren't ArrayList<>.size() and ArrayList<>.get()\n",
    "\n",
    "**ArrayList.add and ArrayList.remove**\n",
    "\n",
    "<br>\n",
    "<br>\n",
    "\n",
    "4. Write the method findSum() using the Hack Helper and incorporating ArrayList.\n",
    "\n"
   ]
  },
  {
   "cell_type": "code",
   "execution_count": 7,
   "metadata": {
    "vscode": {
     "languageId": "java"
    }
   },
   "outputs": [
    {
     "name": "stdout",
     "output_type": "stream",
     "text": [
      "316\n"
     ]
    }
   ],
   "source": [
    "import java.util.ArrayList;\n",
    "\n",
    "public class ArraySum {\n",
    "    private int findSum(ArrayList<Integer> values) {\n",
    "        int sum = 0;\n",
    "        for (int num : values) {\n",
    "            sum += num;\n",
    "        }\n",
    "        return sum;\n",
    "    }\n",
    "\n",
    "    public static void main(String[] args) {\n",
    "        ArrayList<Integer> nums = new ArrayList<>();\n",
    "        nums.add(0);\n",
    "        nums.add(1);\n",
    "        nums.add(2);\n",
    "        nums.add(300);\n",
    "        nums.add(5);\n",
    "        nums.add(8);\n",
    "\n",
    "        ArraySum sums = new ArraySum();\n",
    "        System.out.println(sums.findSum(nums));\n",
    "    }\n",
    "}\n",
    "\n",
    "ArraySum.main(null);"
   ]
  },
  {
   "cell_type": "markdown",
   "metadata": {},
   "source": [
    "## 7.5-7.7 Hacks:\n"
   ]
  },
  {
   "cell_type": "markdown",
   "metadata": {},
   "source": [
    "Write code to remove an element of an ArrayList moving from the first index to the last index, without skipping any like in the example.\n",
    "Then use an insertion sort algorithm to sort the ArrayList you created."
   ]
  },
  {
   "cell_type": "code",
   "execution_count": 8,
   "metadata": {
    "vscode": {
     "languageId": "java"
    }
   },
   "outputs": [
    {
     "name": "stdout",
     "output_type": "stream",
     "text": [
      "Original ArrayList: [5, 3, 7, 1, 9]\n",
      "Removed element at index 0: [3, 7, 1, 9]\n",
      "Removed element at index 0: [7, 1, 9]\n",
      "Removed element at index 0: [1, 9]\n",
      "Removed element at index 0: [9]\n",
      "Removed element at index 0: []\n",
      "Sorted ArrayList: [1, 3, 5, 7, 9]\n"
     ]
    }
   ],
   "source": [
    "import java.util.ArrayList;\n",
    "\n",
    "public class ArrayListManipulation {\n",
    "    // Method to remove elements from ArrayList without skipping any\n",
    "    private static void removeElementsSequentially(ArrayList<Integer> list) {\n",
    "        int size = list.size();\n",
    "        for (int i = 0; i < size; i++) {\n",
    "            list.remove(0); // Remove element at index 0\n",
    "            System.out.println(\"Removed element at index 0: \" + list);\n",
    "        }\n",
    "    }\n",
    "\n",
    "    // insertion sort algo\n",
    "    private static void insertionSort(ArrayList<Integer> list) {\n",
    "        int n = list.size();\n",
    "        for (int i = 1; i < n; ++i) {\n",
    "            int key = list.get(i);\n",
    "            int j = i - 1;\n",
    "\n",
    "\n",
    "            while (j >= 0 && list.get(j) > key) {\n",
    "                list.set(j + 1, list.get(j));\n",
    "                j = j - 1;\n",
    "            }\n",
    "            list.set(j + 1, key);\n",
    "        }\n",
    "    }\n",
    "\n",
    "    public static void main(String[] args) {\n",
    "\n",
    "\n",
    "        ArrayList<Integer> numbers = new ArrayList<>();\n",
    "        numbers.add(5);\n",
    "        numbers.add(3);\n",
    "        numbers.add(7);\n",
    "        numbers.add(1);\n",
    "        numbers.add(9);\n",
    "\n",
    "        System.out.println(\"Original ArrayList: \" + numbers);\n",
    "\n",
    "        removeElementsSequentially(numbers);\n",
    "\n",
    "        numbers.clear();\n",
    "        numbers.add(5);\n",
    "        numbers.add(3);\n",
    "        numbers.add(7);\n",
    "        numbers.add(1);\n",
    "        numbers.add(9);\n",
    "\n",
    "\n",
    "        insertionSort(numbers);\n",
    "\n",
    "        System.out.println(\"Sorted ArrayList: \" + numbers);\n",
    "    }\n",
    "}\n",
    "\n",
    "ArrayListManipulation.main(null);\n",
    "\n"
   ]
  },
  {
   "cell_type": "markdown",
   "metadata": {},
   "source": [
    "## 2D Arrays"
   ]
  },
  {
   "cell_type": "code",
   "execution_count": 10,
   "metadata": {
    "vscode": {
     "languageId": "java"
    }
   },
   "outputs": [
    {
     "name": "stdout",
     "output_type": "stream",
     "text": [
      "Updated Trimester Grades:\n",
      "Trimester 1: 85 90 78 92 99 \n",
      "Trimester 2: 92 88 91 97 80 \n",
      "Trimester 3: 79 85 90 95 67 \n"
     ]
    }
   ],
   "source": [
    "public class TrimesterGrades {\n",
    "\n",
    "    private int[][] trimesterGrades = {\n",
    "        {85, 90, 78, 92, 99}, // tri 1\n",
    "        {92, 88, 91, 97, 80}, // tri 2\n",
    "        {79, 85, 83, 95, 67}  // tri 3\n",
    "    };\n",
    "\n",
    "    public void updateGradeFor3rdPeriod(int newGrade) {\n",
    "        // update grades\n",
    "        trimesterGrades[2][2] = newGrade;\n",
    "    }\n",
    "\n",
    "    public static void main(String[] args) {\n",
    "        TrimesterGrades grades = new TrimesterGrades();\n",
    "        int newGrade = 90;\n",
    "        grades.updateGradeFor3rdPeriod(newGrade);\n",
    "\n",
    "        // show updated grades\n",
    "        System.out.println(\"Updated Trimester Grades:\");\n",
    "        for (int i = 0; i < grades.trimesterGrades.length; i++) {\n",
    "            System.out.print(\"Trimester \" + (i + 1) + \": \");\n",
    "            for (int j = 0; j < grades.trimesterGrades[i].length; j++) {\n",
    "                System.out.print(grades.trimesterGrades[i][j] + \" \");\n",
    "            }\n",
    "            System.out.println();\n",
    "        }\n",
    "    }\n",
    "}\n",
    "\n",
    "TrimesterGrades.main(null);"
   ]
  },
  {
   "cell_type": "markdown",
   "metadata": {},
   "source": [
    "# 2019 FRQ 3"
   ]
  },
  {
   "cell_type": "code",
   "execution_count": 11,
   "metadata": {
    "vscode": {
     "languageId": "java"
    }
   },
   "outputs": [],
   "source": [
    "public ArrayList<String> getDelimitersList(String[] tokens) {\n",
    "\n",
    "    ArrayList<String> delimiters = new ArrayList<String>(); // Initialize an empty ArrayList to store delimiters\n",
    "    for (String str : tokens) { // Iterate over each token in the tokens array\n",
    "        if (str.equals(openDel) || str.equals(closeDel)) { // Check if the token is an open or close delimiter\n",
    "            delimiters.add(str); // If it is, add it to the delimiters ArrayList\n",
    "        }\n",
    "    }\n",
    "    return delimiters; // Return the list of delimiters\n",
    "}\n"
   ]
  },
  {
   "cell_type": "code",
   "execution_count": 12,
   "metadata": {
    "vscode": {
     "languageId": "java"
    }
   },
   "outputs": [
    {
     "name": "stdout",
     "output_type": "stream",
     "text": [
      "Delimiters are unbalanced.\n"
     ]
    }
   ],
   "source": [
    "import java.util.ArrayList;\n",
    "\n",
    "public class TrimesterGrades {\n",
    "    private String openDel = \"{\"; // storing open delimiter\n",
    "    private String closeDel = \"}\"; // storing closed delimiter\n",
    "\n",
    "    public boolean isBalanced(ArrayList<String> delimiters) {\n",
    "        int openCount = 0; // initialize a counter for open delimiters\n",
    "        int closeCount = 0; // initialize a counter for close delimiters\n",
    "        for (String str : delimiters) { // iterate over each delimiter in the ArrayList\n",
    "            if (str.equals(openDel)) { // check if the delimiter is an open delimiter\n",
    "                openCount++; // increment the open delimiter count\n",
    "            } else { // if it's not an open delimiter, it's a close delimiter\n",
    "                closeCount++; // increment the close delimiter count\n",
    "            }\n",
    "            if (closeCount > openCount) { // If there are more close delimiters than open delimiters encountered so far\n",
    "                return false; // The delimiters are unbalanced, return false\n",
    "            }\n",
    "        }\n",
    "        // Check if the number of open and close delimiters are equal\n",
    "        if (openCount == closeCount) {\n",
    "            return true; // Delimiters are balanced, return true\n",
    "        } else {\n",
    "            return false; // Delimiters are unbalanced, return false\n",
    "        }\n",
    "    }\n",
    "\n",
    "\n",
    "    public void testIsBalanced(ArrayList<String> delimiters) {\n",
    "        // Check if delimiters are balanced\n",
    "        if (isBalanced(delimiters)) {\n",
    "            System.out.println(\"Delimiters are balanced.\");\n",
    "        } else {\n",
    "            System.out.println(\"Delimiters are unbalanced.\");\n",
    "        }\n",
    "    }\n",
    "\n",
    "    // Example usage of the testIsBalanced method\n",
    "    public static void main(String[] args) {\n",
    "        // Example usage of the testIsBalanced method\n",
    "        ArrayList<String> delimiters = new ArrayList<>();\n",
    "        delimiters.add(\"{\");\n",
    "        delimiters.add(\"[\");\n",
    "        delimiters.add(\"]\");\n",
    "        delimiters.add(\"}\");\n",
    "\n",
    "        TrimesterGrades tester = new TrimesterGrades();\n",
    "        tester.testIsBalanced(delimiters);\n",
    "\n",
    "    }\n",
    "}\n",
    "\n",
    "TrimesterGrades.main(null);"
   ]
  },
  {
   "cell_type": "markdown",
   "metadata": {},
   "source": [
    "<br>\n",
    "<br>"
   ]
  },
  {
   "cell_type": "markdown",
   "metadata": {},
   "source": [
    "## Searching"
   ]
  },
  {
   "cell_type": "markdown",
   "metadata": {},
   "source": [
    "1. Implement linear search for an array list of integers"
   ]
  },
  {
   "cell_type": "code",
   "execution_count": 13,
   "metadata": {
    "vscode": {
     "languageId": "java"
    }
   },
   "outputs": [
    {
     "name": "stdout",
     "output_type": "stream",
     "text": [
      "Element 3 found at index 2\n"
     ]
    }
   ],
   "source": [
    "import java.util.ArrayList;\n",
    "\n",
    "public class LinearSearch {\n",
    "    public static int linearSearch(ArrayList<Integer> list, int target) {\n",
    "        // iterate through the list\n",
    "        for (int i = 0; i < list.size(); i++) {\n",
    "            // if current element = target, return index\n",
    "            if (list.get(i) == target) {\n",
    "                return i;\n",
    "            }\n",
    "        }\n",
    "        // if target is not found, return -1\n",
    "        return -1;\n",
    "    }\n",
    "\n",
    "    public static void main(String[] args) {\n",
    "   \n",
    "        ArrayList<Integer> numbers = new ArrayList<>();\n",
    "        numbers.add(5);\n",
    "        numbers.add(8);\n",
    "        numbers.add(3);\n",
    "        numbers.add(1);\n",
    "        numbers.add(9);\n",
    "\n",
    "        int target = 3;\n",
    "        int index = linearSearch(numbers, target);\n",
    "        if (index != -1) {\n",
    "            System.out.println(\"Element \" + target + \" found at index \" + index);\n",
    "        } else {\n",
    "            System.out.println(\"Element \" + target + \" not found in the list\");\n",
    "        }\n",
    "    }\n",
    "}\n",
    "\n",
    "LinearSearch.main(null);"
   ]
  },
  {
   "cell_type": "markdown",
   "metadata": {},
   "source": [
    "2. When is it preferred to use linear search over binary search?"
   ]
  },
  {
   "cell_type": "markdown",
   "metadata": {},
   "source": [
    "**Linear search is preferred over binary search for unsorted data, as it doesn't need any data to be sorted beforehand. For smaller data sets, it is preferred to use a linear search, as it doesn't need any sort of preprocessing. Furthermore, for binary searching, inserting and deleting elements a lot is not efficient.**"
   ]
  },
  {
   "cell_type": "markdown",
   "metadata": {},
   "source": [
    "What are some examples of algorithms that would be useful to have recursion?\n",
    "\n",
    "**Recursion can be used in sorting algorithms, where arrays are being divided into smaller subarrays, and then each subarray is sorted recursively. Search algorithms are also used recursively, searching through data structures such as trees.**"
   ]
  },
  {
   "cell_type": "code",
   "execution_count": 14,
   "metadata": {
    "vscode": {
     "languageId": "java"
    }
   },
   "outputs": [
    {
     "name": "stdout",
     "output_type": "stream",
     "text": [
      "Found it at index 5\n"
     ]
    }
   ],
   "source": [
    "public class BinarySearch {\n",
    "    static char[] arr = {'a', 'b', 'c', 'd', 'e', 'f', 'g', 'h'};\n",
    "\n",
    "    public static String findMe(char target, int start, int end) {\n",
    "        if (start > end) {\n",
    "            return \"Not Found\";\n",
    "        }\n",
    "\n",
    "        // find middle number - java integer division automatically truncates\n",
    "        int middle = (start + end) / 2;\n",
    "\n",
    "        if (arr[middle] == target) {\n",
    "            return \"Found it at index \" + middle;\n",
    "        }\n",
    "\n",
    "        // recursion spotted - search lower section\n",
    "        if (arr[middle] > target) {\n",
    "            return findMe(target, start, middle - 1);\n",
    "        } \n",
    "\n",
    "        // recursion spotted part 2 - search higher section\n",
    "        if (arr[middle] < target) {\n",
    "            return findMe(target, middle + 1, end);\n",
    "        }\n",
    "        \n",
    "        return \"Not Found\";\n",
    "    }\n",
    "\n",
    "    public static void main(String[] args) {\n",
    "        char target = 'f';\n",
    "        int start = 0;\n",
    "        int end = arr.length - 1;\n",
    "        System.out.println(findMe(target, start, end));\n",
    "    }\n",
    "}\n",
    "BinarySearch.main(null);"
   ]
  },
  {
   "cell_type": "markdown",
   "metadata": {},
   "source": [
    "What iteration did it find f?\n",
    "\n",
    "**f is found in the second iteration. The algorithm starts with the entire range of the array from index 0 to index 7. Then the middle index is calculated using integer division, and the character at the middle index is compared with the target character. The process is repeated, and the 'f' character is found in the second interation at index 5.**"
   ]
  },
  {
   "cell_type": "markdown",
   "metadata": {},
   "source": [
    "# Removing Car from Garage Method"
   ]
  },
  {
   "cell_type": "code",
   "execution_count": 15,
   "metadata": {
    "vscode": {
     "languageId": "java"
    }
   },
   "outputs": [
    {
     "name": "stdout",
     "output_type": "stream",
     "text": [
      "Ferrari: 2021 Ferrari F8 Tributo\n",
      "Porsche: 2021 Porsche 911 Turbo S\n",
      "Lambo: 2021 Lamborghini Aventador\n",
      "McLaren: 2021 McLaren 720S\n",
      "Removed: Lambo, 2021 Lamborghini Aventador\n",
      "Ferrari: 2021 Ferrari F8 Tributo\n",
      "Porsche: 2021 Porsche 911 Turbo S\n",
      "McLaren: 2021 McLaren 720S\n"
     ]
    }
   ],
   "source": [
    "import java.util.HashMap;\n",
    "\n",
    "public abstract class Collectable implements Comparable <Collectable> {\n",
    "    public final String masterType = \"Collectable\";\n",
    "    private String type;    // extender should define their data type\n",
    "\n",
    "    // enumerated interface\n",
    "    public interface KeyTypes {\n",
    "        String name();\n",
    "    }\n",
    "\n",
    "    protected abstract KeyTypes getKey();     // this method helps force usage of KeyTypes\n",
    "\n",
    "    // getter\n",
    "    public String getMasterType() {\n",
    "        return masterType;\n",
    "    }\n",
    "\n",
    "    // getter\n",
    "    public String getType() {\n",
    "        return type;\n",
    "    }\n",
    "\n",
    "    // setter\n",
    "    public void setType(String type) {\n",
    "        this.type = type;\n",
    "    }\n",
    "    \n",
    "    // this method is used to establish key order\n",
    "    public abstract String toString();\n",
    "\n",
    "    // this method is used to compare toString of objects\n",
    "    public int compareTo(Collectable obj) {\n",
    "        return this.toString().compareTo(obj.toString());\n",
    "    }\n",
    "\n",
    "    // static print method used by extended classes\n",
    "    public static void print(Collectable[] objs) {\n",
    "        // print 'Object' properties\n",
    "        System.out.println(objs.getClass() + \" \" + objs.length);\n",
    "\n",
    "        // print 'Collectable' properties\n",
    "        if (objs.length > 0) {\n",
    "            Collectable obj = objs[0]; // Look at properties of 1st element\n",
    "            System.out.println(\n",
    "                    obj.getMasterType() + \": \" + \n",
    "                    obj.getType() +\n",
    "                    \" listed by \" +\n",
    "                    obj.getKey());\n",
    "        }\n",
    "\n",
    "        // print \"Collectable: Objects'\n",
    "        for(Object o : objs)    // observe that type is Opaque\n",
    "            System.out.println(o);\n",
    "\n",
    "        System.out.println();\n",
    "    }\n",
    "}\n",
    "\n",
    "public class Car extends Collectable {\n",
    "    private String make;\n",
    "    private String model;\n",
    "    private int year;\n",
    "\n",
    "    public Car(String make, String model, int year) {\n",
    "        this.make = make;\n",
    "        this.model = model;\n",
    "        this.year = year;\n",
    "    }\n",
    "\n",
    "    @Override\n",
    "    protected KeyTypes getKey() {\n",
    "        return null; \n",
    "    }\n",
    "\n",
    "    public String getMake() {\n",
    "        return make;\n",
    "    }\n",
    "\n",
    "    public String getModel() {\n",
    "        return model;\n",
    "    }\n",
    "\n",
    "    public int getYear() {\n",
    "        return year;\n",
    "    }\n",
    "\n",
    "    public String toString() {\n",
    "        return year + \" \" + make + \" \" + model;\n",
    "    }\n",
    "}\n",
    "\n",
    "public class Garage {\n",
    "    private static HashMap<String, Car> garage = new HashMap<>();\n",
    "\n",
    "    public Garage() {\n",
    "        garage.put(\"Lambo\", new Car(\"Lamborghini\", \"Aventador\", 2021));\n",
    "        garage.put(\"Ferrari\", new Car(\"Ferrari\", \"F8 Tributo\", 2021));\n",
    "        garage.put(\"Porsche\", new Car(\"Porsche\", \"911 Turbo S\", 2021));\n",
    "        garage.put(\"McLaren\", new Car(\"McLaren\", \"720S\", 2021));\n",
    "    }\n",
    "\n",
    "    // Print what's in my garage\n",
    "    public void printGarage() {\n",
    "        for (String key : garage.keySet()) {\n",
    "            System.out.println(key + \": \" + garage.get(key));\n",
    "        }\n",
    "    }\n",
    "\n",
    "    // Method to remove a car based on the key\n",
    "    public void removeCar(String key) {\n",
    "        Car removedCar = garage.remove(key);\n",
    "        if (removedCar == null) {\n",
    "            System.out.println(key + \" not found in the garage\");\n",
    "        } else {\n",
    "            System.out.println(\"Removed: \" + key + \", \" + removedCar);\n",
    "        }\n",
    "    }\n",
    "\n",
    "    public static void main(String[] args) {\n",
    "        Garage myGarage = new Garage();\n",
    "        myGarage.printGarage();\n",
    "\n",
    "        // Test removing a car from the garage\n",
    "        String keyToRemove = \"Lambo\";\n",
    "        myGarage.removeCar(keyToRemove);\n",
    "        myGarage.printGarage(); // Print garage after removal\n",
    "    }\n",
    "}\n",
    "\n",
    "Garage.main(null);"
   ]
  },
  {
   "cell_type": "markdown",
   "metadata": {},
   "source": [
    "## HACKS"
   ]
  },
  {
   "cell_type": "markdown",
   "metadata": {},
   "source": [
    "1. Is sequential/linear or binary more efficient? Why?\n",
    "\n",
    "**For sorted data sets, binary search is more efficient, as it repeatedly divides the sorted array in half until the target element is found. Sequential search efficiency is more suitable for unsorted data sets, and it is easy to implement when the data set is small.**\n",
    "\n",
    "2. Why might you not always be able to use binary search?\n",
    "\n",
    "**Binary search requires the data to be sorted beforehand. If the data is not sorted, applying binary search would either require sorting the data first or would output incorrect results. Also, some data structures, such as linked lists, do not support efficient random access or indexing, which is needed for binary search.**"
   ]
  },
  {
   "cell_type": "markdown",
   "metadata": {},
   "source": [
    "3. Which of the following implements a method named contains for searching an array sequentially, confirming whether or not the array contains a requested element?\n",
    "\n",
    "**Option 4 is the one that implements a method named contains for searching an array sequentially, confirming whether or not the array contains a requested element. The program iterates through the array 'arr' sequentially using a for loop, and inside the loop, it checks the current element arr[i] is equal to the requested value 'val'. Based on whether or not a match is found, it returns either true or false.** "
   ]
  },
  {
   "cell_type": "code",
   "execution_count": 16,
   "metadata": {
    "vscode": {
     "languageId": "java"
    }
   },
   "outputs": [],
   "source": [
    "public static int foo(int[] arr, int x) {\n",
    "\n",
    "    for(int i = 0; i < arr.length; i++) {\n",
    "    \n",
    "        if(arr[i] == x) {\n",
    "    \n",
    "            return i;\n",
    "    \n",
    "        }\n",
    "    \n",
    "    }\n",
    "    \n",
    "    return -1;\n",
    "}"
   ]
  },
  {
   "cell_type": "code",
   "execution_count": 17,
   "metadata": {
    "vscode": {
     "languageId": "java"
    }
   },
   "outputs": [
    {
     "name": "stdout",
     "output_type": "stream",
     "text": [
      "Indubitably!\n",
      "Indubitably!\n",
      "Indubitably!\n",
      "Indubitably!\n",
      "Indubitably!\n",
      "Indubitably!\n",
      "Indubitably!\n",
      "Indubitably!\n",
      "Indubitably!\n",
      "Indubitably!\n"
     ]
    }
   ],
   "source": [
    "int[] vals = {1,4,51,3,14,91,130,14};\n",
    "\n",
    "for(int i = 0; i < 20; i++) {\n",
    "\n",
    "if(foo(vals,i%4) < 0) {\n",
    "\n",
    "    System.out.println(\"Indubitably!\");\n",
    "\n",
    "}\n",
    "}"
   ]
  },
  {
   "cell_type": "markdown",
   "metadata": {},
   "source": [
    "Based on analyzing the values of i % 4 for each iteration of the loop, the word indubitably is printed out 10 times. "
   ]
  }
 ],
 "metadata": {
  "kernelspec": {
   "display_name": "Java",
   "language": "java",
   "name": "java"
  },
  "language_info": {
   "codemirror_mode": "java",
   "file_extension": ".jshell",
   "mimetype": "text/x-java-source",
   "name": "Java",
   "pygments_lexer": "java",
   "version": "22+36-2370"
  }
 },
 "nbformat": 4,
 "nbformat_minor": 2
}
