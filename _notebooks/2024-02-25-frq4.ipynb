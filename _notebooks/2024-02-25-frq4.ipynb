{
 "cells": [
  {
   "cell_type": "markdown",
   "metadata": {},
   "source": [
    "---\n",
    "layout: post\n",
    "title: CSA Finals Week - Question 4 FRQ\n",
    "toc: true\n",
    "comments: true\n",
    "description: Proof of learning, coding, note-taking\n",
    "---"
   ]
  },
  {
   "cell_type": "markdown",
   "metadata": {},
   "source": [
    "# QUESTION 4: METHODS AND CONTROL STRUCTURES\n",
    "\n",
    "\t\n",
    "#### PART A: A number group represents a group of integers defined in some way. It could be empty, or it could contain one or more integers.\n",
    "\n",
    "Write an interface named NumberGroup that represents a group of integers. The interface should have a single contains method that determines if a given integer is in the group. For example, if group1 is of type NumberGroup, and it contains only the two numbers -5 and 3, then group1.contains(-5) would return true, and group1.contains(2) would return false. Write the complete NumberGroup interface. It must have exactly one method."
   ]
  },
  {
   "cell_type": "code",
   "execution_count": 1,
   "metadata": {},
   "outputs": [
    {
     "name": "stdout",
     "output_type": "stream",
     "text": [
      "true\n",
      "false\n",
      "true\n",
      "false\n"
     ]
    }
   ],
   "source": [
    "import java.util.Arrays;\n",
    "import java.util.HashSet;\n",
    "import java.util.List;\n",
    "import java.util.Set;\n",
    "\n",
    "public class Main {\n",
    "    public static void main(String[] args) {\n",
    "        NumberGroup rangeGroup = new RangeGroup(1, 10); // Represents numbers 1 through 10\n",
    "        System.out.println(rangeGroup.contains(5));  // this is true\n",
    "        System.out.println(rangeGroup.contains(11)); // this is false\n",
    "\n",
    "        NumberGroup setGroup = new SetGroup(new HashSet<>(Arrays.asList(66, 63, 99)));\n",
    "        System.out.println(setGroup.contains(66)); // this is true\n",
    "        System.out.println(setGroup.contains(2));  // this is false\n",
    "    }\n",
    "//this checks if the number is there\n",
    "    public interface NumberGroup {\n",
    "        boolean contains(int num);\n",
    "    }\n",
    "\n",
    "    public static class RangeGroup implements NumberGroup {\n",
    "        private int start, end;\n",
    "//constructor\n",
    "        public RangeGroup(int start, int end) {\n",
    "            this.start = start;\n",
    "            this.end = end;\n",
    "        }\n",
    "//to check if NumberGroup works with set of numbers\n",
    "        @Override\n",
    "        public boolean contains(int num) {\n",
    "            return num >= start && num <= end;\n",
    "        }\n",
    "    }\n",
    "\n",
    "    public static class SetGroup implements NumberGroup {\n",
    "        private Set<Integer> numbers;\n",
    "//constructor to start collection of numbers\n",
    "        public SetGroup(Set<Integer> numbers) {\n",
    "            this.numbers = numbers;\n",
    "        }\n",
    "//checks if number is in set\n",
    "        @Override\n",
    "        public boolean contains(int num) {\n",
    "            return numbers.contains(num);\n",
    "        }\n",
    "    }\n",
    "}\n",
    "\n",
    "Main.main(null);\n"
   ]
  },
  {
   "cell_type": "markdown",
   "metadata": {},
   "source": [
    "#### Part A Explanation\n",
    "\n",
    "The NumberGroup interface defines a single method, contains(int num), which checks if a given integer is part of the group.\n",
    "\n",
    "The RangeGroup class implements NumberGroup to represent a range of consecutive integers. It checks if a number is within this range in its contains method.\n",
    "\n",
    "The SetGroup class implements NumberGroup using a Set<Integer> to store its numbers, allowing for a collection of distinct integers without a specific order. Its contains method checks if the set contains the given number.\n",
    "\n",
    "This example demonstrates how interfaces in Java can be used to define a common contract for different implementations, allowing for flexibility and reuse of code.\n"
   ]
  },
  {
   "cell_type": "markdown",
   "metadata": {},
   "source": [
    "#### PART B: A range represents a number group that contains all (and only) the integers between a minimum value and a maximum value, inclusive. Write the Range class, which is a NumberGroup. The Range class represents the group of int values that range from a given minimum value up through a given maximum value, inclusive. For example, the declaration\n",
    "\n",
    "NumberGroup range1 = new Range(-3, 2);\n",
    "\n",
    "represents the group of integer values -3, -2, -1, 0, 1, 2.\n",
    "\n",
    "Write the complete Range class. Include all necessary instance variables and methods as well as a constructor that takes two int parameters. The first parameter represents the minimum value, and the second parameter represents the maximum value of the range. You may assume that the minimum is less than or equal to the maximum."
   ]
  },
  {
   "cell_type": "code",
   "execution_count": 3,
   "metadata": {},
   "outputs": [
    {
     "name": "stdout",
     "output_type": "stream",
     "text": [
      "true\n",
      "true\n",
      "false\n"
     ]
    }
   ],
   "source": [
    "public class Main {\n",
    "    public static void main(String[] args) {\n",
    "        NumberGroup range1 = new Range(-6, 5);\n",
    "        System.out.println(range1.contains(-3)); // true\n",
    "        System.out.println(range1.contains(0));  // true\n",
    "        System.out.println(range1.contains(7));  // false\n",
    "    }\n",
    "\n",
    "    // Interface from Part A\n",
    "    public interface NumberGroup {\n",
    "        boolean contains(int num);\n",
    "    }\n",
    "\n",
    "    // Implementation of NumberGroup to represent a range of integers\n",
    "    public static class Range implements NumberGroup {\n",
    "        private int min;\n",
    "        private int max;\n",
    "\n",
    "        public Range(int min, int max) {\n",
    "            this.min = min;\n",
    "            this.max = max;\n",
    "        }\n",
    "\n",
    "        @Override\n",
    "        public boolean contains(int num) {\n",
    "            return num >= min && num <= max;\n",
    "        }\n",
    "    }\n",
    "}\n",
    "\n",
    "Main.main(null);"
   ]
  },
  {
   "cell_type": "markdown",
   "metadata": {},
   "source": [
    " #### Part B Explanation\n",
    " \n",
    "So basically, The NumberGroup interface with a single method contains(int num), which checks if a given integer is part of the group.\n",
    "\n",
    "I also used Overrides to use it as a customization tag to make sure the right version of a method is used.\n",
    "\n",
    "The Range class that implements the NumberGroup interface. It represents a range of integers from min to max (inclusive). The contains method for this class checks if a given integer falls within its range."
   ]
  },
  {
   "cell_type": "markdown",
   "metadata": {},
   "source": [
    "#### PART C: The MultipleGroups class (not shown) represents a collection of NumberGroup objects and isa NumberGroup. The MultipleGroups class stores the number groups in the instance variable groupList (shown below), which is initialized in the constructor.\n",
    "\n",
    "private List groupList;\n",
    "\n",
    "Write the MultipleGroups method contains. The method takes an integer and returns true if and only if the integer is contained in one or more of the number groups in groupList.\n",
    "\n",
    "For example, suppose multiple1 has been declared as an instance of MultipleGroups and consists of the three ranges created by the calls new Range(5, 8), new Range(10, 12), and new Range(1, 6). The following table shows the results of several calls to contains."
   ]
  },
  {
   "cell_type": "code",
   "execution_count": 6,
   "metadata": {},
   "outputs": [
    {
     "name": "stdout",
     "output_type": "stream",
     "text": [
      "true\n",
      "false\n",
      "true\n"
     ]
    }
   ],
   "source": [
    "import java.util.ArrayList;\n",
    "import java.util.List;\n",
    "\n",
    "public class Main {\n",
    "    public static void main(String[] args) {\n",
    "        // Create a list to hold NumberGroup objects, which are ranges in this context\n",
    "        List<NumberGroup> groups = new ArrayList<>();\n",
    "        // Add three Range objects to the list, each representing a different range of integers\n",
    "        groups.add(new Range(5, 8));\n",
    "        groups.add(new Range(10, 12));\n",
    "        groups.add(new Range(1, 6));\n",
    "\n",
    "        // Create a MultipleGroups object that contains all the ranges added above\n",
    "        MultipleGroups multiple1 = new MultipleGroups(groups);\n",
    "        \n",
    "        // Test whether specific numbers are contained within any of the ranges in MultipleGroups\n",
    "        System.out.println(multiple1.contains(2)); // true, because 2 is within the range 1-6\n",
    "        System.out.println(multiple1.contains(9)); // false, 9 is not within any of the specified ranges\n",
    "        System.out.println(multiple1.contains(6)); // true, because 6 is within the range 5-8 and 1-6\n",
    "    }\n",
    "\n",
    "    // Define the NumberGroup interface with a method to check if it contains a specific number\n",
    "    public interface NumberGroup {\n",
    "        boolean contains(int num);\n",
    "    }\n",
    "\n",
    "    // Implement the NumberGroup interface to represent a range of integers\n",
    "    public static class Range implements NumberGroup {\n",
    "        private int min; // The minimum value in the range\n",
    "        private int max; // The maximum value in the range\n",
    "\n",
    "        // Constructor to initialize a range with specified minimum and maximum values\n",
    "        public Range(int min, int max) {\n",
    "            this.min = min;\n",
    "            this.max = max;\n",
    "        }\n",
    "\n",
    "        // Implement the contains method to check if a number is within the range\n",
    "        @Override\n",
    "        public boolean contains(int num) {\n",
    "            return num >= min && num <= max;\n",
    "        }\n",
    "    }\n",
    "\n",
    "    // Implement the NumberGroup interface to represent a collection of NumberGroup objects\n",
    "    public static class MultipleGroups implements NumberGroup {\n",
    "        private List<NumberGroup> groupList; // A list to hold the NumberGroup objects\n",
    "\n",
    "        // Constructor to initialize MultipleGroups with a list of NumberGroup objects\n",
    "        public MultipleGroups(List<NumberGroup> groupList) {\n",
    "            this.groupList = groupList;\n",
    "        }\n",
    "\n",
    "        // Implement the contains method to check if any of the NumberGroup objects contain the number\n",
    "        @Override\n",
    "        public boolean contains(int num) {\n",
    "            // Iterate through each NumberGroup in the list\n",
    "            for (NumberGroup group : groupList) {\n",
    "                // If any group contains the number, return true\n",
    "                if (group.contains(num)) {\n",
    "                    return true;\n",
    "                }\n",
    "            }\n",
    "            // If no group contains the number, return false\n",
    "            return false;\n",
    "        }\n",
    "    }\n",
    "}\n",
    "Main.main(null);"
   ]
  },
  {
   "cell_type": "markdown",
   "metadata": {},
   "source": [
    "#### Part C Explanation\n",
    "\n",
    "Here is how I would explain: \n",
    "\n",
    "The NumberGroup interface is like the rule book that every club follows, saying, \"Hey, to be part of us, you gotta pass this one test: are you in the right grade?\"\n",
    "\n",
    "The Range class is like a specific club that says, \"We only take students from grade 5 to grade 8,\" for example. When you check if you can join (contains method), they look at your grade and say yes or no based on their grade range.\n",
    "\n",
    "Now, MultipleGroups is like a council of different clubs. When you ask if you can join any club in the council (contains method), they check with each club one by one. If any club says, \"Yeah, this person can join,\" then the council says you're in. If none of the clubs accept you, the council says you're not in.\n",
    "\n",
    "In the main method, we're setting up this scenario. We create a few clubs with their own grade ranges and then put them all in a council. Then we check a few grades to see if they'd be accepted by any club in the council."
   ]
  }
 ],
 "metadata": {
  "kernelspec": {
   "display_name": "Java",
   "language": "java",
   "name": "java"
  },
  "language_info": {
   "codemirror_mode": "java",
   "file_extension": ".jshell",
   "mimetype": "text/x-java-source",
   "name": "java",
   "pygments_lexer": "java",
   "version": "11.0.20+8-post-Ubuntu-1ubuntu120.04"
  }
 },
 "nbformat": 4,
 "nbformat_minor": 2
}
