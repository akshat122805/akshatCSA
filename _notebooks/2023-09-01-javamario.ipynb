{
 "cells": [
  {
   "cell_type": "markdown",
   "metadata": {},
   "source": [
    "---\n",
    "toc: true\n",
    "comments: true\n",
    "layout: post\n",
    "title: JS Sprite Hacks\n",
    "description: Goat moves different directions\n",
    "courses: { csa: {week: 3} }\n",
    "type: hacks\n",
    "---"
   ]
  },
  {
   "cell_type": "markdown",
   "metadata": {
    "vscode": {
     "languageId": "java"
    }
   },
   "source": [
    "## Interactive Skeleton Sprite Animation\n",
    "\n",
    "<div id=\"container\">\n",
    "    <div id=\"sprite\"></div>\n",
    "</div>\n",
    "\n",
    "<style>\n",
    "    #container {\n",
    "        width: 320px;\n",
    "        height: 327px;\n",
    "        border: 2px solid black;\n",
    "        position: relative;\n",
    "        overflow: hidden;\n",
    "    }\n",
    "\n",
    "    #sprite {\n",
    "        width: 320px;\n",
    "        height: 327px;\n",
    "        background: url('skellyops.jpg') 0 0;\n",
    "        position: absolute;\n",
    "        top: 0px;\n",
    "        left: 0px;\n",
    "    }\n",
    "</style>\n",
    "\n",
    "<script>\n",
    "    let frameIndex = 0;\n",
    "    let rowIndex = 0;\n",
    "    const spriteDiv = document.getElementById('sprite');\n",
    "    const frameWidth = 320;\n",
    "    const frameHeight = 327;\n",
    "\n",
    "    function updateSprite() {\n",
    "        spriteDiv.style.backgroundPosition = `-${frameIndex * frameWidth}px -${rowIndex * frameHeight}px`;\n",
    "    }\n",
    "\n",
    "    document.addEventListener('keydown', function(event) {\n",
    "        if (event.key === \"ArrowRight\") {\n",
    "            frameIndex = (frameIndex + 1) % 4;\n",
    "            rowIndex = (rowIndex + Math.floor((frameIndex) / 4)) % 3;\n",
    "        }\n",
    "        if (event.key === \"ArrowLeft\") {\n",
    "            frameIndex = (frameIndex - 1 + 4) % 4;\n",
    "            rowIndex = (rowIndex + Math.floor((frameIndex - 1 + 4) / 4)) % 3;\n",
    "        }\n",
    "        updateSprite();\n",
    "    });\n",
    "</script>"
   ]
  }
 ],
 "metadata": {
  "kernelspec": {
   "display_name": "base",
   "language": "python",
   "name": "python3"
  },
  "language_info": {
   "codemirror_mode": {
    "name": "ipython",
    "version": 3
   },
   "file_extension": ".py",
   "mimetype": "text/x-python",
   "name": "python",
   "nbconvert_exporter": "python",
   "pygments_lexer": "ipython3",
   "version": "3.9.12"
  },
  "orig_nbformat": 4
 },
 "nbformat": 4,
 "nbformat_minor": 2
}
