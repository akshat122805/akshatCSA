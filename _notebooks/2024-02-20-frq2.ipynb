{
 "cells": [
  {
   "cell_type": "markdown",
   "metadata": {},
   "source": [
    "---\n",
    "layout: post\n",
    "title: CSA Finals Week - Question 2 FRQ\n",
    "toc: true\n",
    "comments: true\n",
    "description: Proof of learning, coding, note-taking\n",
    "---"
   ]
  },
  {
   "cell_type": "markdown",
   "metadata": {},
   "source": [
    "# Question 2: Classes\n",
    "\n",
    "#### Part A: Write the complete HiddenWord class, including any necessary instance variables, its constructor, and the method, getHint, described above. You may assume that the length of the guess is the same as the length of the hidden word.\n"
   ]
  },
  {
   "cell_type": "code",
   "execution_count": 18,
   "metadata": {},
   "outputs": [
    {
     "name": "stdout",
     "output_type": "stream",
     "text": [
      "Your hand:\n",
      "6H\n",
      "7S\n",
      "AD\n",
      "5H\n",
      "8C\n",
      "Enter your guess (flush, straight, high card, etc.): \n",
      "Your guess: Flush\n",
      "Incorrect guess or you don't have a Flush.\n"
     ]
    }
   ],
   "source": [
    "import java.util.HashSet;\n",
    "import java.util.Random;\n",
    "import java.util.Scanner;\n",
    "import java.util.Set;\n",
    "\n",
    "public class PokerHand {\n",
    "    private String[] deck = {\n",
    "        \"2D\", \"3D\", \"4D\", \"5D\", \"6D\", \"7D\", \"8D\", \"9D\", \"10D\", \"JD\", \"QD\", \"KD\", \"AD\",\n",
    "        \"2H\", \"3H\", \"4H\", \"5H\", \"6H\", \"7H\", \"8H\", \"9H\", \"10H\", \"JH\", \"QH\", \"KH\", \"AH\",\n",
    "        \"2S\", \"3S\", \"4S\", \"5S\", \"6S\", \"7S\", \"8S\", \"9S\", \"10S\", \"JS\", \"QS\", \"KS\", \"AS\",\n",
    "        \"2C\", \"3C\", \"4C\", \"5C\", \"6C\", \"7C\", \"8C\", \"9C\", \"10C\", \"JC\", \"QC\", \"KC\", \"AC\"\n",
    "    };\n",
    "    private Set<String> drawnCards = new HashSet<>(); // keeps track of drawn cards\n",
    "    private String[] hand = new String[5]; // stores poker hand\n",
    "    private Random rand = new Random(); // random number generator\n",
    "\n",
    "    // constructor for random hand\n",
    "    public PokerHand() {\n",
    "        generateHand();\n",
    "    }\n",
    "\n",
    "    // right here actually generates the poker hand\n",
    "    private void generateHand() {\n",
    "        int drawn = 0;\n",
    "        while (drawn < hand.length) {\n",
    "            String card = deck[rand.nextInt(deck.length)]; // picks a random card from the deck\n",
    "            if (drawnCards.add(card)) { // iff the card hasn't been drawn before, add it to the hand\n",
    "                hand[drawn++] = card;\n",
    "            }\n",
    "        }\n",
    "    }\n",
    "\n",
    "    // method to display the current poker hand\n",
    "    public void displayHand() {\n",
    "        System.out.println(\"Your hand:\");\n",
    "        for (String card : hand) {\n",
    "            System.out.println(card);\n",
    "        }\n",
    "    }\n",
    "\n",
    "    // method to check if the current hand is a flush\n",
    "    public boolean isFlush() {\n",
    "        char suit = hand[0].charAt(hand[0].length() - 1); // Get the suit of the first card\n",
    "        for (String card : hand) {\n",
    "            if (card.charAt(card.length() - 1) != suit) { // If any card has a different suit, it's not a flush\n",
    "                return false;\n",
    "            }\n",
    "        }\n",
    "        return true; // If all cards have the same suit, it's a flush\n",
    "    }\n",
    "\n",
    "    // running program scanner\n",
    "    public static void main(String[] args) {\n",
    "        Scanner scanner = new Scanner(System.in); \n",
    "        PokerHand pokerHand = new PokerHand(); \n",
    "        pokerHand.displayHand(); \n",
    "        \n",
    "        \n",
    "        System.out.println(\"Enter your guess (flush, straight, high card, etc.): \");\n",
    "        String guess = scanner.nextLine(); // Read the user's input\n",
    "        \n",
    "       \n",
    "        System.out.println(\"Your guess: \" + guess);\n",
    "        \n",
    "        // checks if user guess is correct\n",
    "        if (guess.equalsIgnoreCase(\"flush\") && pokerHand.isFlush()) {\n",
    "            System.out.println(\"Correct guess! You have a Flush.\");\n",
    "        } else {\n",
    "            System.out.println(\"Incorrect guess or you don't have a \" + guess + \".\");\n",
    "        }\n",
    "        \n",
    "        scanner.close(); \n",
    "    }\n",
    "}\n",
    "\n",
    "PokerHand.main(null);"
   ]
  },
  {
   "cell_type": "markdown",
   "metadata": {},
   "source": [
    "### Question 2 Part A explanation\n",
    "\n",
    "In this example, the PokerHand class creates a guessing game where the user tries to guess a poker hand pattern. The hiddenPattern is the pattern to be guessed and the getHint method gives feedback on the user’s guess. The feedback is simplified to symbols to indicate correct characters in correct hands. \n",
    "\n",
    "The main method demonstrates how the class might be used with a user guess. For PLACE.com's Poker feature, we could integrate user input and a more sophisticated method for generating and evaluating poker hands"
   ]
  }
 ],
 "metadata": {
  "kernelspec": {
   "display_name": "Java",
   "language": "java",
   "name": "java"
  },
  "language_info": {
   "codemirror_mode": "java",
   "file_extension": ".jshell",
   "mimetype": "text/x-java-source",
   "name": "java",
   "pygments_lexer": "java",
   "version": "11.0.20+8-post-Ubuntu-1ubuntu120.04"
  }
 },
 "nbformat": 4,
 "nbformat_minor": 2
}
