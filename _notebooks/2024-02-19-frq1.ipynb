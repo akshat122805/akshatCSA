{
 "cells": [
  {
   "cell_type": "markdown",
   "metadata": {},
   "source": [
    "---\n",
    "layout: post\n",
    "title: CSA Finals Week - Question 1 FRQ\n",
    "toc: true\n",
    "comments: true\n",
    "description: Proof of learning, coding, note-taking\n",
    "---"
   ]
  },
  {
   "cell_type": "markdown",
   "metadata": {},
   "source": [
    "# Question 1: Arrays & ArrayLists\n",
    "\n",
    "#### PART A: Write a static method arraySum that calculates and returns the sum of the entries in a specified one-dimensional array. The following example shows an array arr1 and the value returned by a call to arraySum.\n"
   ]
  },
  {
   "cell_type": "code",
   "execution_count": 1,
   "metadata": {
    "vscode": {
     "languageId": "java"
    }
   },
   "outputs": [
    {
     "name": "stdout",
     "output_type": "stream",
     "text": [
      "Total value of poker hand: 47\n"
     ]
    }
   ],
   "source": [
    "public class PokerHandValueCalculator {\n",
    "    public static void main(String[] args) {\n",
    "        int[] handValues = {1, 13, 10, 11, 12}; \n",
    "        int totalHandValue = calculateHandValue(handValues);\n",
    "        System.out.println(\"Total value of poker hand: \" + totalHandValue);\n",
    "    }\n",
    "     \n",
    "    public static int calculateHandValue(int[] values) {\n",
    "        int total = 0;\n",
    "        for (int value : values) {\n",
    "            total += value;\n",
    "        }\n",
    "        return total;\n",
    "    }\n",
    "}\n",
    "PokerHandValueCalculator.main(null);"
   ]
  },
  {
   "cell_type": "markdown",
   "metadata": {},
   "source": [
    "#### Part A Explanation \n",
    "\n",
    "For Part A, I used the PokerHandValueCalculator class that calculates the total value of a poker hand which is given in an array of card values. Basically, the handValues array shows a hand of cards using integers, where the card number is from 1-A, and there four shapes: Hearts (H), Clubs (C), Spades (S), and Diamonds (D). The calculateHandValue method sums these values to calculate the total value of the hand. This simplifies the the tough part of poker but serves as a good example of how I modeled a poker system in code using array lists. \n",
    "\n",
    "\n"
   ]
  },
  {
   "cell_type": "markdown",
   "metadata": {},
   "source": [
    "#### PART B: Write a static method rowSums that calculates the sums of each of the rows in a given two-dimensional array and returns these sums in a one-dimensional array. The method has one parameter, a two-dimensional array arr2D of int values. The array is in row-major order: arr2D [r] [c] is the entry at row r and column c. The method returns a one-dimensional array with one entry for each row of arr2D such that each entry is the sum of the corresponding row in arr2D. As a reminder, each row of a two-dimensional array is a one-dimensional array.\n"
   ]
  },
  {
   "cell_type": "code",
   "execution_count": 2,
   "metadata": {
    "vscode": {
     "languageId": "java"
    }
   },
   "outputs": [
    {
     "name": "stdout",
     "output_type": "stream",
     "text": [
      "Total value of hand 1: 47\n",
      "Total value of hand 2: 20\n",
      "Total value of hand 3: 45\n"
     ]
    }
   ],
   "source": [
    "public class PokerHandSums {\n",
    "    public static void main(String[] args) {\n",
    "       \n",
    "        int[][] pokerHands = {\n",
    "            {1, 10, 11, 12, 13}, \n",
    "            {2, 3, 4, 5, 6},   \n",
    "            {7, 8, 9, 10, 11} \n",
    "        };\n",
    "\n",
    "        int[] handSums = calculateHandSums(pokerHands);\n",
    "\n",
    "        for (int i = 0; i < handSums.length; i++) {\n",
    "            System.out.println(\"Total value of hand \" + (i + 1) + \": \" + handSums[i]);\n",
    "        }\n",
    "    }\n",
    "\n",
    "    public static int[] calculateHandSums(int[][] hands) {\n",
    "        int[] sums = new int[hands.length];\n",
    "\n",
    "        for (int i = 0; i < hands.length; i++) {\n",
    "            int sum = 0;\n",
    "            for (int j = 0; j < hands[i].length; j++) {\n",
    "                sum += hands[i][j];\n",
    "            }\n",
    "            sums[i] = sum;\n",
    "        }\n",
    "\n",
    "        return sums;\n",
    "    }\n",
    "}\n",
    "\n",
    "PokerHandSums.main(null);\n",
    "\n"
   ]
  },
  {
   "cell_type": "markdown",
   "metadata": {},
   "source": [
    "#### Part B Explanation\n",
    "\n",
    "Here I used PokerHandSums class to calculate the total value of each poker hand in a two dimensional array which returns these totals in a one dimensional array. The pokerHands shows all many hands of cards, with each row bring a different hand. he calculateHandSums method calculates the sum of the values for each hand and stores these sums in a new array, which it then returns.\n"
   ]
  },
  {
   "cell_type": "markdown",
   "metadata": {},
   "source": [
    "#### PART C: A two-dimensional array is diverse if no two of its rows have entries that sum to the same value. In the following examples, the array mat1 is diverse because each row sum is different, but the array mat2 is not diverse because the first and last rows have the same sum. Write a static method isDiverse that determines whether or not a given two-dimensional array is diverse. The method has one parameter: a two-dimensional array arr2D of int values. The method should return true if all the row sums in the given array are unique; otherwise, it should return false. In the arrays shown above, the call isDiverse (mat1) returns true and the call isDiverse(mat2) returns false.\n",
    "\n"
   ]
  },
  {
   "cell_type": "code",
   "execution_count": 3,
   "metadata": {
    "vscode": {
     "languageId": "java"
    }
   },
   "outputs": [
    {
     "name": "stdout",
     "output_type": "stream",
     "text": [
      "Poker session 1 is diverse: true\n",
      "Poker session 2 is diverse: false\n"
     ]
    }
   ],
   "source": [
    "import java.util.Arrays;\n",
    "\n",
    "public class PokerDiversityChecker {\n",
    "    public static void main(String[] args) {\n",
    "        int[][] pokerSession1 = {\n",
    "            {1, 11, 10, 12, 13}, \n",
    "            {2, 3, 4, 5, 6},    \n",
    "            {7, 8, 9, 10, 11} \n",
    "        };\n",
    "        \n",
    "        int[][] pokerSession2 = {\n",
    "            {1, 11, 10, 12, 13}, \n",
    "            {2, 3, 4, 5, 6},   \n",
    "            {1, 11, 10, 12, 13}\n",
    "        };\n",
    "        \n",
    "        System.out.println(\"Poker session 1 is diverse: \" + isDiverse(pokerSession1)); // Expected: true\n",
    "        System.out.println(\"Poker session 2 is diverse: \" + isDiverse(pokerSession2)); // Expected: false\n",
    "    }\n",
    "\n",
    "    public static boolean isDiverse(int[][] hands) {\n",
    "        int[] handValues = rowSums(hands); \n",
    "        Arrays.sort(handValues); // Sort the total values\n",
    "        \n",
    "        // Check for duplicate \n",
    "        for (int i = 0; i < handValues.length - 1; i++) {\n",
    "            if (handValues[i] == handValues[i + 1]) {\n",
    "                return false; // Found duplicate total values, not diverse\n",
    "            }\n",
    "        }\n",
    "        \n",
    "        return true; \n",
    "    }\n",
    "\n",
    "    // total val\n",
    "    public static int[] rowSums(int[][] hands) {\n",
    "        int[] sums = new int[hands.length];\n",
    "        for (int i = 0; i < hands.length; i++) {\n",
    "            sums[i] = arraySum(hands[i]); \n",
    "        }\n",
    "        return sums;\n",
    "    }\n",
    "\n",
    "   \n",
    "    public static int arraySum(int[] hand) {\n",
    "        int sum = 0;\n",
    "        for (int value : hand) {\n",
    "            sum += value;\n",
    "        }\n",
    "        return sum;\n",
    "    }\n",
    "}\n",
    "\n",
    "PokerDiversityChecker.main(null);\n"
   ]
  },
  {
   "cell_type": "markdown",
   "metadata": {},
   "source": [
    "#### Part C Explanation\n",
    "\n",
    "In this problem, I decided to think that pokerSession1 and pokerSession2 represent two sets of poker hands. The isDiverse method checks if each of hands is unique based on their value. It also checks for duplication, so that no two hands are the same in a session. This program is a good way to analyze which outcomes might be possible based on the poker hand given.\n",
    "\n",
    "This relates to our project due to our upcoming feature PLACEPoker. We plan to embed a multitude of games in order to build a centralized gaming platform with channels of communication."
   ]
  }
 ],
 "metadata": {
  "kernelspec": {
   "display_name": "Java",
   "language": "java",
   "name": "java"
  },
  "language_info": {
   "codemirror_mode": "java",
   "file_extension": ".jshell",
   "mimetype": "text/x-java-source",
   "name": "Java",
   "pygments_lexer": "java",
   "version": "11.0.20+8-post-Ubuntu-1ubuntu120.04"
  }
 },
 "nbformat": 4,
 "nbformat_minor": 2
}
