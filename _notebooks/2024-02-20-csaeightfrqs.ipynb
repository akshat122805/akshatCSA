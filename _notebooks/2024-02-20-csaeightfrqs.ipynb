{
 "cells": [
  {
   "cell_type": "markdown",
   "metadata": {},
   "source": [
    "---\n",
    "layout: post\n",
    "title: CSA Finals Week - Eight FRQs\n",
    "toc: true\n",
    "comments: true\n",
    "description: Proof of learning, coding, note-taking\n",
    "---"
   ]
  },
  {
   "cell_type": "markdown",
   "metadata": {},
   "source": [
    "# Question 1: Arrays & ArrayLists\n",
    "\n",
    "### Part A: PART A: Write a static method arraySum that calculates and returns the sum of the entries in a specified one-dimensional array. The following example shows an array arr1 and the value returned by a call to arraySum."
   ]
  },
  {
   "cell_type": "code",
   "execution_count": 2,
   "metadata": {},
   "outputs": [
    {
     "name": "stdout",
     "output_type": "stream",
     "text": [
      "Total value of poker hand: 47\n"
     ]
    }
   ],
   "source": [
    "public class PokerHandValueCalculator {\n",
    "    public static void main(String[] args) {\n",
    "        // Array representing the values of cards in a poker hand\n",
    "        // For simplicity: 1 = Ace, 11 = Jack, 12 = Queen, 13 = King, others as is\n",
    "        int[] handValues = {1, 13, 10, 11, 12}; // Example hand: Ace, King, 10, Jack, Queen\n",
    "\n",
    "        // Calculate the total value of the hand\n",
    "        int totalHandValue = calculateHandValue(handValues);\n",
    "\n",
    "        // Print out the total value of the hand\n",
    "        System.out.println(\"Total value of poker hand: \" + totalHandValue);\n",
    "    }\n",
    "\n",
    "    /**\n",
    "     * This method calculates the total value of a poker hand.\n",
    "     * \n",
    "     * @param values Array of integers where each integer represents the value of a card in the hand.\n",
    "     * @return The total value of the hand.\n",
    "     */\n",
    "    public static int calculateHandValue(int[] values) {\n",
    "        int total = 0;\n",
    "        // Iterate through each card's value in the hand and sum them up\n",
    "        for (int value : values) {\n",
    "            total += value;\n",
    "        }\n",
    "        return total;\n",
    "    }\n",
    "}\n",
    "\n",
    "PokerHandValueCalculator.main(null);"
   ]
  },
  {
   "cell_type": "markdown",
   "metadata": {},
   "source": [
    "### Part A Explanation \n",
    "\n",
    "In this example, the PokerHandValueCalculator class calculates the total value of a poker hand given an array of card values. The handValues array represents a hand of cards using integers. The calculateHandValue method sums these values to calculate the total value of the hand. This setup simplifies the real complexity of poker but serves as a good example of how you might start to model such a system in code. The comments explain each part of the code for clarity."
   ]
  },
  {
   "cell_type": "markdown",
   "metadata": {},
   "source": [
    "### PART B: Write a static method rowSums that calculates the sums of each of the rows in a given two-dimensional array and returns these sums in a one-dimensional array. The method has one parameter, a two-dimensional array arr2D of int values. The array is in row-major order: arr2D [r] [c] is the entry at row r and column c. The method returns a one-dimensional array with one entry for each row of arr2D such that each entry is the sum of the corresponding row in arr2D. As a reminder, each row of a two-dimensional array is a one-dimensional array.\n",
    "\n"
   ]
  },
  {
   "cell_type": "code",
   "execution_count": 1,
   "metadata": {},
   "outputs": [
    {
     "name": "stdout",
     "output_type": "stream",
     "text": [
      "Total value of hand 1: 47\n",
      "Total value of hand 2: 20\n",
      "Total value of hand 3: 45\n"
     ]
    }
   ],
   "source": [
    "public class PokerHandSums {\n",
    "    public static void main(String[] args) {\n",
    "        // Two-dimensional array representing several hands of cards in a poker game\n",
    "        // Each row is a hand, and each value represents a card's value\n",
    "        // For simplicity: 1 = Ace, 11 = Jack, 12 = Queen, 13 = King, others as is\n",
    "        int[][] pokerHands = {\n",
    "            {1, 10, 11, 12, 13}, // Hand 1: Ace, 10, Jack, Queen, King\n",
    "            {2, 3, 4, 5, 6},    // Hand 2: 2, 3, 4, 5, 6\n",
    "            {7, 8, 9, 10, 11}   // Hand 3: 7, 8, 9, 10, Jack\n",
    "        };\n",
    "\n",
    "        // Calculate the total value of each hand\n",
    "        int[] handSums = calculateHandSums(pokerHands);\n",
    "\n",
    "        // Print out the total value of each hand\n",
    "        for (int i = 0; i < handSums.length; i++) {\n",
    "            System.out.println(\"Total value of hand \" + (i + 1) + \": \" + handSums[i]);\n",
    "        }\n",
    "    }\n",
    "\n",
    "    /**\n",
    "     * Calculates the sums of each of the hands in a given two-dimensional array\n",
    "     * and returns these sums in a one-dimensional array.\n",
    "     * \n",
    "     * @param hands Two-dimensional array of int values representing poker hands.\n",
    "     * @return A one-dimensional array with one entry for each hand, where each entry\n",
    "     *         is the sum of the corresponding hand in the two-dimensional array.\n",
    "     */\n",
    "    public static int[] calculateHandSums(int[][] hands) {\n",
    "        // Create a one-dimensional array to store the sum of each hand\n",
    "        int[] sums = new int[hands.length];\n",
    "\n",
    "        // Iterate through each hand\n",
    "        for (int i = 0; i < hands.length; i++) {\n",
    "            // Initialize the sum for the current hand\n",
    "            int sum = 0;\n",
    "            // Iterate through each card in the hand and add its value to the sum\n",
    "            for (int j = 0; j < hands[i].length; j++) {\n",
    "                sum += hands[i][j];\n",
    "            }\n",
    "            // Store the sum of the current hand in the sums array\n",
    "            sums[i] = sum;\n",
    "        }\n",
    "\n",
    "        return sums;\n",
    "    }\n",
    "}\n",
    "\n",
    "PokerHandSums.main(null);\n"
   ]
  },
  {
   "cell_type": "markdown",
   "metadata": {},
   "source": [
    "### Part B Explanation \n",
    "\n",
    "In this example, PokerHandSums class calculates the total value of each poker hand (row) in a two-dimensional array and returns these totals in a one-dimensional array. The pokerHands array represents several hands of cards, with each row being a different hand and each column a card in that hand. The calculateHandSums method calculates the sum of the values for each hand and stores these sums in a new array, which it then returns. This code is commented to help beginners understand each step of the process."
   ]
  },
  {
   "cell_type": "markdown",
   "metadata": {},
   "source": [
    "# Question 2: Classes"
   ]
  },
  {
   "cell_type": "markdown",
   "metadata": {},
   "source": [
    "### Part A: Write the complete HiddenWord class, including any necessary instance variables, its constructor, and the method, getHint, described above. You may assume that the length of the guess is the same as the length of the hidden word.\n",
    "\n"
   ]
  },
  {
   "cell_type": "code",
   "execution_count": 9,
   "metadata": {},
   "outputs": [
    {
     "name": "stdout",
     "output_type": "stream",
     "text": [
      "Your hand:\n",
      "5S\n",
      "3C\n",
      "5H\n",
      "KC\n",
      "2H\n",
      "Guess: flush\n",
      "Incorrect guess or hand type.\n"
     ]
    }
   ],
   "source": [
    "import java.util.HashSet;\n",
    "import java.util.Random;\n",
    "import java.util.Set;\n",
    "\n",
    "public class PokerHand {\n",
    "    private String[] deck = {\n",
    "        \"2D\", \"3D\", \"4D\", \"5D\", \"6D\", \"7D\", \"8D\", \"9D\", \"10D\", \"JD\", \"QD\", \"KD\", \"AD\",\n",
    "        \"2H\", \"3H\", \"4H\", \"5H\", \"6H\", \"7H\", \"8H\", \"9H\", \"10H\", \"JH\", \"QH\", \"KH\", \"AH\",\n",
    "        \"2S\", \"3S\", \"4S\", \"5S\", \"6S\", \"7S\", \"8S\", \"9S\", \"10S\", \"JS\", \"QS\", \"KS\", \"AS\",\n",
    "        \"2C\", \"3C\", \"4C\", \"5C\", \"6C\", \"7C\", \"8C\", \"9C\", \"10C\", \"JC\", \"QC\", \"KC\", \"AC\"\n",
    "    };\n",
    "    private Set<String> drawnCards = new HashSet<>();\n",
    "    private String[] hand = new String[5];\n",
    "    private Random rand = new Random();\n",
    "\n",
    "    public PokerHand() {\n",
    "        generateHand();\n",
    "    }\n",
    "\n",
    "    private void generateHand() {\n",
    "        int drawn = 0;\n",
    "        while (drawn < hand.length) {\n",
    "            String card = deck[rand.nextInt(deck.length)];\n",
    "            if (drawnCards.add(card)) {\n",
    "                hand[drawn++] = card;\n",
    "            }\n",
    "        }\n",
    "    }\n",
    "\n",
    "    public void displayHand() {\n",
    "        System.out.println(\"Your hand:\");\n",
    "        for (String card : hand) {\n",
    "            System.out.println(card);\n",
    "        }\n",
    "    }\n",
    "\n",
    "    public boolean isFlush() {\n",
    "        char suit = hand[0].charAt(hand[0].length() - 1);\n",
    "        for (String card : hand) {\n",
    "            if (card.charAt(card.length() - 1) != suit) {\n",
    "                return false;\n",
    "            }\n",
    "        }\n",
    "        return true;\n",
    "    }\n",
    "\n",
    "    public static void main(String[] args) {\n",
    "        PokerHand pokerHand = new PokerHand();\n",
    "        pokerHand.displayHand();\n",
    "        \n",
    "        // Simulated guess\n",
    "        String guess = \"flush\"; // This would be dynamic in an interactive environment\n",
    "        System.out.println(\"Guess: \" + guess);\n",
    "        \n",
    "        // Check the guess\n",
    "        if (guess.equals(\"flush\") && pokerHand.isFlush()) {\n",
    "            System.out.println(\"Correct guess! You have a Flush.\");\n",
    "        } else {\n",
    "            System.out.println(\"Incorrect guess or hand type.\");\n",
    "        }\n",
    "    }\n",
    "}\n",
    "\n",
    "PokerHand.main(null);\n"
   ]
  },
  {
   "cell_type": "markdown",
   "metadata": {},
   "source": [
    "### Question 2 Part A explanation\n",
    "\n",
    "In this example, the HiddenPokerHand class simulates a guessing game where the user tries to guess a poker hand pattern. The hiddenPattern is the pattern to be guessed (e.g., \"Flush\"), and the getHint method provides feedback on the user's guess. The feedback is simplified to symbols ('+', '*', '-') to indicate correct characters in correct positions, correct characters in wrong positions, and incorrect characters, respectively.\n",
    "\n",
    "This framework is quite basic and can be expanded to include more detailed hints or to evaluate more complex poker hand patterns. The main method demonstrates how the class might be used with a hardcoded guess. In a real application, you could integrate user input and a more sophisticated method for generating and evaluating poker hands.\n"
   ]
  }
 ],
 "metadata": {
  "kernelspec": {
   "display_name": "Java",
   "language": "java",
   "name": "java"
  },
  "language_info": {
   "codemirror_mode": "java",
   "file_extension": ".jshell",
   "mimetype": "text/x-java-source",
   "name": "java",
   "pygments_lexer": "java",
   "version": "11.0.20+8-post-Ubuntu-1ubuntu120.04"
  }
 },
 "nbformat": 4,
 "nbformat_minor": 2
}
