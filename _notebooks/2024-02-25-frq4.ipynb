{
 "cells": [
  {
   "cell_type": "markdown",
   "metadata": {},
   "source": [
    "---\n",
    "layout: post\n",
    "title: CSA Finals Week - Question 4 FRQ\n",
    "toc: true\n",
    "comments: true\n",
    "description: Proof of learning, coding, note-taking\n",
    "---"
   ]
  },
  {
   "cell_type": "markdown",
   "metadata": {},
   "source": [
    "# QUESTION 4: METHODS AND CONTROL STRUCTURES\n",
    "\n",
    "\t\n",
    "#### PART A: A number group represents a group of integers defined in some way. It could be empty, or it could contain one or more integers.\n",
    "\n",
    "Write an interface named NumberGroup that represents a group of integers. The interface should have a single contains method that determines if a given integer is in the group. For example, if group1 is of type NumberGroup, and it contains only the two numbers -5 and 3, then group1.contains(-5) would return true, and group1.contains(2) would return false. Write the complete NumberGroup interface. It must have exactly one method."
   ]
  },
  {
   "cell_type": "code",
   "execution_count": 2,
   "metadata": {
    "vscode": {
     "languageId": "java"
    }
   },
   "outputs": [
    {
     "name": "stdout",
     "output_type": "stream",
     "text": [
      "true\n",
      "false\n",
      "true\n",
      "false\n"
     ]
    }
   ],
   "source": [
    "import java.util.Arrays;\n",
    "import java.util.HashSet;\n",
    "import java.util.List;\n",
    "import java.util.Set;\n",
    "\n",
    "public class Main {\n",
    "    public static void main(String[] args) {\n",
    "        NumberGroup rangeGroup = new RangeGroup(1, 10); // Represents numbers 1 through 10\n",
    "        System.out.println(rangeGroup.contains(5));  // this is true\n",
    "        System.out.println(rangeGroup.contains(11)); // this is false\n",
    "\n",
    "        NumberGroup setGroup = new SetGroup(new HashSet<>(Arrays.asList(66, 63, 99)));\n",
    "        System.out.println(setGroup.contains(66)); // this is true\n",
    "        System.out.println(setGroup.contains(2));  // this is false\n",
    "    }\n",
    "\n",
    "    public interface NumberGroup {\n",
    "        boolean contains(int num);\n",
    "    }\n",
    "\n",
    "    public static class RangeGroup implements NumberGroup {\n",
    "        private int start, end;\n",
    "\n",
    "        public RangeGroup(int start, int end) {\n",
    "            this.start = start;\n",
    "            this.end = end;\n",
    "        }\n",
    "\n",
    "        @Override\n",
    "        public boolean contains(int num) {\n",
    "            return num >= start && num <= end;\n",
    "        }\n",
    "    }\n",
    "\n",
    "    public static class SetGroup implements NumberGroup {\n",
    "        private Set<Integer> numbers;\n",
    "\n",
    "        public SetGroup(Set<Integer> numbers) {\n",
    "            this.numbers = numbers;\n",
    "        }\n",
    "\n",
    "        @Override\n",
    "        public boolean contains(int num) {\n",
    "            return numbers.contains(num);\n",
    "        }\n",
    "    }\n",
    "}\n",
    "\n",
    "Main.main(null);\n"
   ]
  },
  {
   "cell_type": "markdown",
   "metadata": {},
   "source": [
    "#### Part A Explanation\n",
    "\n",
    "The NumberGroup interface defines a single method, contains(int num), which checks if a given integer is part of the group.\n",
    "\n",
    "The RangeGroup class implements NumberGroup to represent a range of consecutive integers. It checks if a number is within this range in its contains method.\n",
    "\n",
    "The SetGroup class implements NumberGroup using a Set<Integer> to store its numbers, allowing for a collection of distinct integers without a specific order. Its contains method checks if the set contains the given number.\n",
    "\n",
    "This example demonstrates how interfaces in Java can be used to define a common contract for different implementations, allowing for flexibility and reuse of code.\n"
   ]
  },
  {
   "cell_type": "markdown",
   "metadata": {},
   "source": [
    "#### PART B: A range represents a number group that contains all (and only) the integers between a minimum value and a maximum value, inclusive. Write the Range class, which is a NumberGroup. The Range class represents the group of int values that range from a given minimum value up through a given maximum value, inclusive. For example, the declaration\n",
    "\n",
    "NumberGroup range1 = new Range(-3, 2);\n",
    "\n",
    "represents the group of integer values -3, -2, -1, 0, 1, 2.\n",
    "\n",
    "Write the complete Range class. Include all necessary instance variables and methods as well as a constructor that takes two int parameters. The first parameter represents the minimum value, and the second parameter represents the maximum value of the range. You may assume that the minimum is less than or equal to the maximum."
   ]
  },
  {
   "cell_type": "code",
   "execution_count": 3,
   "metadata": {
    "vscode": {
     "languageId": "java"
    }
   },
   "outputs": [
    {
     "name": "stdout",
     "output_type": "stream",
     "text": [
      "true\n",
      "true\n",
      "false\n"
     ]
    }
   ],
   "source": [
    "public class Main {\n",
    "    public static void main(String[] args) {\n",
    "        NumberGroup range1 = new Range(-6, 5);\n",
    "        System.out.println(range1.contains(-3)); // true\n",
    "        System.out.println(range1.contains(0));  // true\n",
    "        System.out.println(range1.contains(7));  // false\n",
    "    }\n",
    "\n",
    "    // Interface from Part A\n",
    "    public interface NumberGroup {\n",
    "        boolean contains(int num);\n",
    "    }\n",
    "\n",
    "    // Implementation of NumberGroup to represent a range of integers\n",
    "    public static class Range implements NumberGroup {\n",
    "        private int min;\n",
    "        private int max;\n",
    "\n",
    "        public Range(int min, int max) {\n",
    "            this.min = min;\n",
    "            this.max = max;\n",
    "        }\n",
    "\n",
    "        @Override\n",
    "        public boolean contains(int num) {\n",
    "            return num >= min && num <= max;\n",
    "        }\n",
    "    }\n",
    "}\n",
    "\n",
    "Main.main(null);"
   ]
  },
  {
   "cell_type": "markdown",
   "metadata": {},
   "source": [
    " #### Part B Explanation\n",
    " \n",
    "So basically, The NumberGroup interface with a single method contains(int num), which checks if a given integer is part of the group.\n",
    "\n",
    "I also used Overrides to use it as a customization tag to make sure the right version of a method is used.\n",
    "\n",
    "The Range class that implements the NumberGroup interface. It represents a range of integers from min to max (inclusive). The contains method for this class checks if a given integer falls within its range."
   ]
  },
  {
   "cell_type": "markdown",
   "metadata": {},
   "source": [
    "#### PART C: The MultipleGroups class (not shown) represents a collection of NumberGroup objects and isa NumberGroup. The MultipleGroups class stores the number groups in the instance variable groupList (shown below), which is initialized in the constructor.\n",
    "\n",
    "private List groupList;\n",
    "\n",
    "Write the MultipleGroups method contains. The method takes an integer and returns true if and only if the integer is contained in one or more of the number groups in groupList.\n",
    "\n",
    "For example, suppose multiple1 has been declared as an instance of MultipleGroups and consists of the three ranges created by the calls new Range(5, 8), new Range(10, 12), and new Range(1, 6). The following table shows the results of several calls to contains."
   ]
  },
  {
   "cell_type": "code",
   "execution_count": 5,
   "metadata": {
    "vscode": {
     "languageId": "java"
    }
   },
   "outputs": [],
   "source": [
    "import java.util.ArrayList;\n",
    "import java.util.List;\n",
    "\n",
    "public class Main {\n",
    "    public static void main(String[] args) {\n",
    "        List<NumberGroup> channels = new ArrayList<>();\n",
    "        channels.add(new MessageChannel(new ArrayList<>(List.of(101, 102, 103))));\n",
    "        channels.add(new MessageChannel(new ArrayList<>(List.of(201, 202, 203))));\n",
    "        channels.add(new MessageChannel(new ArrayList<>(List.of(301, 302, 303))));\n",
    "\n",
    "        MultipleChannels multipleChannels = new MultipleChannels(channels);\n",
    "        \n",
    "        System.out.println(\"Does any channel contain message ID 102? \" + multipleChannels.contains(102)); // true\n",
    "        System.out.println(\"Does any channel contain message ID 205? \" + multipleChannels.contains(205)); // false\n",
    "        System.out.println(\"Does any channel contain message ID 303? \" + multipleChannels.contains(303)); // true\n",
    "    }\n",
    "\n",
    "    public interface NumberGroup {\n",
    "        boolean contains(int messageId);\n",
    "    }\n",
    "\n",
    "    public static class MessageChannel implements NumberGroup {\n",
    "        private List<Integer> messageIds;\n",
    "\n",
    "        public MessageChannel(List<Integer> messageIds) {\n",
    "            this.messageIds = messageIds;\n",
    "        }\n",
    "\n",
    "        @Override\n",
    "        public boolean contains(int messageId) {\n",
    "            return messageIds.contains(messageId);\n",
    "        }\n",
    "    }\n",
    "\n",
    "    public static class MultipleChannels implements NumberGroup {\n",
    "        private List<NumberGroup> channels;\n",
    "\n",
    "        public MultipleChannels(List<NumberGroup> channels) {\n",
    "            this.channels = channels;\n",
    "        }\n",
    "\n",
    "        @Override\n",
    "        public boolean contains(int messageId) {\n",
    "            for (NumberGroup channel : channels) {\n",
    "                if (channel.contains(messageId)) {\n",
    "                    return true;\n",
    "                }\n",
    "            }\n",
    "            return false;\n",
    "        }\n",
    "    }\n",
    "}\n"
   ]
  },
  {
   "cell_type": "markdown",
   "metadata": {},
   "source": [
    "#### Part C Explanation\n",
    "\n",
    "NumberGroup is used to represent a collection of message IDs within a Discord text channel (MessageChannel).\n",
    "\n",
    "Each MessageChannel implements NumberGroup, holding a list of message IDs and providing a method to check if a specific message ID is contained within that channel.\n",
    "\n",
    "MultipleChannels represents a collection of NumberGroup objects (in this case, MessageChannel objects), allowing for a check across multiple text channels to see if a specific message ID exists in any of them.\n",
    "\n",
    "This example demonstrates how the concept of managing groups of numbers (or message IDs, in this case) can be applied to a scenario involving Discord text channels, providing a way to search for messages across multiple channels."
   ]
  }
 ],
 "metadata": {
  "kernelspec": {
   "display_name": "Java",
   "language": "java",
   "name": "java"
  },
  "language_info": {
   "codemirror_mode": "java",
   "file_extension": ".jshell",
   "mimetype": "text/x-java-source",
   "name": "Java",
   "pygments_lexer": "java",
   "version": "11.0.20+8-post-Ubuntu-1ubuntu120.04"
  }
 },
 "nbformat": 4,
 "nbformat_minor": 2
}
