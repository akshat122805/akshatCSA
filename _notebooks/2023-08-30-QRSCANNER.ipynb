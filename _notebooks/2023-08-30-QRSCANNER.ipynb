{
 "cells": [
  {
   "cell_type": "code",
   "execution_count": null,
   "metadata": {},
   "outputs": [],
   "source": [
    "---\n",
    "toc: true\n",
    "comments: true\n",
    "layout: post\n",
    "title: JS Input/Output Hacks\n",
    "description: LETS RATE MEDICINE!!!!\n",
    "courses: { csp: {week: 0} }\n",
    "type: hacks\n",
    "---"
   ]
  },
  {
   "cell_type": "code",
   "execution_count": 1,
   "metadata": {
    "vscode": {
     "languageId": "javascript"
    }
   },
   "outputs": [
    {
     "data": {
      "text/plain": [
       "\"Advil has a rating of 3 out of 5 stars. It's okay\""
      ]
     },
     "metadata": {},
     "output_type": "display_data"
    },
    {
     "data": {
      "application/vnd.jupyter.widget-view+json": {
       "model_id": "bf6f09693ae2455b94e68fdf0574d9c7",
       "version_major": 2,
       "version_minor": 0
      },
      "text/plain": [
       "Text(value='Advil', description='Medication:', placeholder='Enter the name of the medication')"
      ]
     },
     "metadata": {},
     "output_type": "display_data"
    },
    {
     "data": {
      "application/vnd.jupyter.widget-view+json": {
       "model_id": "efe0a1e67c524efe93faae0eb2ea188e",
       "version_major": 2,
       "version_minor": 0
      },
      "text/plain": [
       "Button(description='Get Rating', style=ButtonStyle())"
      ]
     },
     "metadata": {},
     "output_type": "display_data"
    }
   ],
   "source": [
    "import random\n",
    "import ipywidgets as widgets\n",
    "from IPython.display import display, clear_output\n",
    "\n",
    "# Define the function to get a random rating and comment\n",
    "def get_medication_rating(medication):\n",
    "    rating = random.randint(1, 5)\n",
    "    comments = {\n",
    "        1: \"It sucks\",\n",
    "        2: \"Could be better, got a reaction from it\",\n",
    "        3: \"It's okay\",\n",
    "        4: \"This is great, I love it\",\n",
    "        5: \"Flawless\"\n",
    "    }\n",
    "    comment = comments[rating]\n",
    "    return f\"{medication} has a rating of {rating} out of 5 stars. {comment}\"\n",
    "\n",
    "# Define the function to handle the button click\n",
    "def on_button_click(button):\n",
    "    clear_output(wait=True)\n",
    "    medication = text.value\n",
    "    result = get_medication_rating(medication)\n",
    "    display(result, text, button)\n",
    "\n",
    "# Create the text input and button widgets\n",
    "\n",
    "text = widgets.Text(\n",
    "    value='',\n",
    "    placeholder='Enter the name of the medication',\n",
    "    description='Medication:',\n",
    "    disabled=False\n",
    ")\n",
    "button = widgets.Button(description=\"Get Rating\")\n",
    "button.on_click(on_button_click)\n",
    "\n",
    "# Display the widgets\n",
    "display(text, button)\n"
   ]
  }
 ],
 "metadata": {
  "kernelspec": {
   "display_name": "Python 3",
   "language": "python",
   "name": "python3"
  },
  "language_info": {
   "codemirror_mode": {
    "name": "ipython",
    "version": 3
   },
   "file_extension": ".py",
   "mimetype": "text/x-python",
   "name": "python",
   "nbconvert_exporter": "python",
   "pygments_lexer": "ipython3",
   "version": "3.9.12"
  },
  "orig_nbformat": 4
 },
 "nbformat": 4,
 "nbformat_minor": 2
}
