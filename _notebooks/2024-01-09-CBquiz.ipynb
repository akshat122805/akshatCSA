{
 "cells": [
  {
   "cell_type": "markdown",
   "metadata": {},
   "source": [
    "---\n",
    "layout: post\n",
    "title: CB 2015 PE MCQ Reflection\n",
    "toc: true\n",
    "comments: true\n",
    "description: CB Reflection, insights, and learnings\n",
    "courses: { csa: {week: 12} }\n",
    "type: hacks\n",
    "---"
   ]
  },
  {
   "cell_type": "markdown",
   "metadata": {},
   "source": [
    "### Final Score\n",
    "\n",
    "<img src=\"{{ site.baseurl }}/images/mainscore.png\" alt=\"mainscore\">"
   ]
  },
  {
   "cell_type": "markdown",
   "metadata": {},
   "source": [
    "# Corrections \n",
    "\n",
    "### Question 2\n",
    "<img src=\"{{ site.baseurl }}/images/wrong1.png\" alt=\"wrong1\">\n",
    "\n",
    "Time: 5 minutes\n",
    "<br>\n",
    "Correction: A. The outer for loop iterates three times with r being assigned the values 3, 2, and 1. The two inner loops iterates a different number of times for each iteration of the outer loop depending on the value of r. During the first iteration of the outer loop, when r is 3, the first inner loop iterates two times for when c is equal to 1 and 2. This results in -- being printed. The second inner loop iterates one time for when c equals 3. This results in * being printed.\n",
    "\n"
   ]
  },
  {
   "cell_type": "markdown",
   "metadata": {},
   "source": [
    "### Question 3\n",
    "\n",
    "<img src=\"{{ site.baseurl }}/images/wrong2.png\" alt=\"wrong2\">\n",
    "\n",
    "Time: 3.5 minutes\n",
    "<br>\n",
    "Correction: B, because the object that was created is of type B, so the show method in class B is called which prints B."
   ]
  },
  {
   "cell_type": "markdown",
   "metadata": {},
   "source": [
    "### Question 12\n",
    "\n",
    "<img src=\"{{ site.baseurl }}/images/wrong3.png\" alt=\"wrong3\">\n",
    "\n",
    "Time: 10 seconds (Guessed)\n",
    "<br>\n",
    "Correction: B. Using Demorgans Law. When x and y are both true, !x && !y is false. Therefore, (x && y) && (!x && !y) will always be false as will (x && y) && !(x ||y).\n"
   ]
  },
  {
   "cell_type": "markdown",
   "metadata": {},
   "source": [
    "### Question 25\n",
    "\n",
    "<img src=\"{{ site.baseurl }}/images/wrong4.png\" alt=\"wrong4\">\n",
    "\n",
    "Time: 1 minute (Educated Guess)\n",
    "<br>\n",
    "Correction: C. The outer loop iterates four times (for x = 0, 1, 2, 3). When x is assigned 4, the loop terminates. The inner loop will iterate from the value of x to 4, not including 4. \n"
   ]
  },
  {
   "cell_type": "markdown",
   "metadata": {},
   "source": [
    "### Question 31\n",
    "\n",
    "<img src=\"{{ site.baseurl }}/images/wrong5.png\" alt=\"wrong5\">\n",
    "\n",
    "Time: 2 minutes\n",
    "<br>\n",
    "Correction: E. The first set of nested for loops sets each element in board to “O”. The next for loop starts val at 0 and increments by 1 until val is 4, when val is 5 the loop terminates. When val is even, board is not updated, so nothing happens when val is 0. When val is 1, row is assigned 1 and col is assigned 0. I still don't sort of understand, lets ask Mr. Mort in class tomorrow.\n"
   ]
  },
  {
   "cell_type": "markdown",
   "metadata": {},
   "source": [
    "### Question 32\n",
    "\n",
    "<img src=\"{{ site.baseurl }}/images/wrong6.png\" alt=\"wrong6\">\n",
    "\n",
    "Time: 1 minute (Educated Guess)\n",
    "<br>\n",
    "Correction: B. To calculate the average age in a given major, you have to find all the students in the given major, add up their ages, and divide by the total number of students in the major. Since theMajor is a String, the if statement needs to use .equals to compare theMajor with the major of k, found by calling the getMajor() method on k."
   ]
  },
  {
   "cell_type": "markdown",
   "metadata": {},
   "source": [
    "### Question 35\n",
    "\n",
    "<img src=\"{{ site.baseurl }}/images/wrong7.png\" alt=\"wrong7\">\n",
    "\n",
    "Time: 3 minutes\n",
    "<br>\n",
    "Correction: C. In the first iteration of the binary search, it will check the value at index (0 + 7) / 2 which is index 3. Since 8 is greater than data[3], start is assigned mid + 1 which is 4 and the process will repeat."
   ]
  },
  {
   "cell_type": "markdown",
   "metadata": {},
   "source": [
    "### Question 36\n",
    "\n",
    "<img src=\"{{ site.baseurl }}/images/wrong8.png\" alt=\"wrong8\">\n",
    "\n",
    "Time: 16 seconds (quick guess)\n",
    "<br>\n",
    "Correction: D. he first iteration would check the middle element of 2000 and eliminate approximately 1000 elements. The second iteration would check the middle element of 1000 and eliminate approximately 500 elements. The third would eliminate approximately 250 elements. The fourth would eliminate approximately 125 elements AND SO ON!!!"
   ]
  },
  {
   "cell_type": "markdown",
   "metadata": {},
   "source": [
    "### Question 39\n",
    "\n",
    "<img src=\"{{ site.baseurl }}/images/wrong9.png\" alt=\"wrong9\">\n",
    "\n",
    "Time: 11 seconds (google search was wrong)\n",
    "<br>\n",
    "Correction: C. The first for loop uses the set method to change the value of each element in students to “Alex”. When the set method is called, it returns the value that was originally at this index. So, the first loop will print Alex Bob Carl. At this point all elements have been set to “Alex”. The second for loop uses an enhanced for loop to access every element and will print Alex Alex Alex."
   ]
  }
 ],
 "metadata": {
  "language_info": {
   "name": "python"
  }
 },
 "nbformat": 4,
 "nbformat_minor": 2
}
