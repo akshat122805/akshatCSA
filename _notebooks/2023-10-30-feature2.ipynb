{
 "cells": [
  {
   "cell_type": "markdown",
   "metadata": {},
   "source": [
    "---\n",
    "layout: post\n",
    "title: Student Review - Blog 2 | Teacher Admin User\n",
    "description: Detailed documentation on the thought process and contribution of feature for my group and the overall Mortensen Canvas vision.\n",
    "toc: true\n",
    "---"
   ]
  },
  {
   "cell_type": "markdown",
   "metadata": {},
   "source": [
    "# Initial Requirement and Basic Structure:\n",
    "The inception of our project was rooted in a straightforward request: the creation of a utilitarian tool designed for assignment selection. The envisioned tool was to be equipped with a set of primary features. Firstly, a dropdown menu was to be incorporated, allowing users to select the specific week of the assignment. This was complemented by another dropdown menu, dedicated to the categorization of the assignment, be it homework, a project, or an exam. The final touch was the integration of an iframe, a pivotal component designed to display the content of the chosen assignment. The foundational HTML structure was thus:"
   ]
  },
  {
   "cell_type": "code",
   "execution_count": null,
   "metadata": {
    "vscode": {
     "languageId": "html"
    }
   },
   "outputs": [],
   "source": [
    "<label for=\"week\">Assignment Week:</label>\n",
    "<select id=\"week\" name=\"week\" onchange=\"displayAssignment()\"></select>\n",
    "\n",
    "<label for=\"category\">Assignment Category:</label>\n",
    "<select id=\"category\" name=\"category\"></select>\n",
    "\n",
    "<iframe id=\"assignmentIframe\"></iframe>\n"
   ]
  },
  {
   "cell_type": "markdown",
   "metadata": {},
   "source": [
    "# Styling the Tool:\n",
    "\n",
    "A tool, no matter how functional, requires an aesthetic touch to enhance user engagement. Recognizing this, we embarked on a journey to infuse our tool with a contemporary design. We opted for a neutral color palette, ensuring that the tool would be visually soothing. The choice of the 'Roboto' font further accentuated the modern essence of the tool. Special attention was given to the iframe, which was adorned with a subtle shadow, adding a touch of depth. The dropdowns, too, were meticulously styled to ensure visual consistency and ease of interaction."
   ]
  },
  {
   "cell_type": "code",
   "execution_count": null,
   "metadata": {
    "vscode": {
     "languageId": "html"
    }
   },
   "outputs": [],
   "source": [
    "<style>\n",
    "body {\n",
    "    font-family: 'Roboto', sans-serif;\n",
    "    padding: 20px;\n",
    "    background-color: #f4f4f4;\n",
    "}\n",
    "</style>"
   ]
  },
  {
   "cell_type": "markdown",
   "metadata": {},
   "source": [
    "<img src=\"{{ site.baseurl }}/images/student1.png\" alt=\"newbutton\">"
   ]
  },
  {
   "cell_type": "markdown",
   "metadata": {},
   "source": [
    "# JAVASCRIPT OOP\n",
    "\n",
    "Below are code snippets that demonstrate JS OOP for the respective feature:"
   ]
  },
  {
   "cell_type": "markdown",
   "metadata": {},
   "source": [
    "<img src=\"{{ site.baseurl }}/images/student2.png\" alt=\"dd1\">\n",
    "<br>\n",
    "<br>\n"
   ]
  },
  {
   "cell_type": "markdown",
   "metadata": {},
   "source": [
    "# Challenges with iFrames:\n",
    "\n",
    "Every development journey encounters its set of challenges, and ours was no exception. Our primary hurdle emerged with the use of iframes. While iframes offer a convenient method to embed external content, they are not without limitations. Our initial implementation rendered the embedded content almost invisible due to the restricted height of the iframe. Recognizing the suboptimal user experience this presented, we undertook corrective measures, adjusting the height to ensure comprehensive visibility and enhanced user engagement."
   ]
  },
  {
   "cell_type": "markdown",
   "metadata": {},
   "source": [
    "<img src=\"{{ site.baseurl }}/images/student3.png\" alt=\"dd2\">"
   ]
  },
  {
   "cell_type": "markdown",
   "metadata": {},
   "source": [
    "# Fetching Content Directly:\n",
    "\n",
    "As we progressed, a realization dawned upon us: Why restrict ourselves to iframes when we could fetch and display content directly? Such an approach would transcend the boundaries of mere embedding, offering users an immersive experience as if the content was natively part of our tool. However, this ambitious endeavor was not without its challenges. The specter of CORS (Cross-Origin Resource Sharing) restrictions loomed large, and we had to ensure that the fetched content retained its original formatting and interactivity when displayed within our tool."
   ]
  },
  {
   "cell_type": "markdown",
   "metadata": {},
   "source": [
    "# Documentation and Iterative Development:\n",
    "\n",
    "The essence of our development journey was rooted in iteration. At every step, we sought feedback, critically analyzed our tool, and undertook refinements. This iterative approach, coupled with meticulous documentation, was instrumental in ensuring that our final product not only met the stipulated specifications but also resonated with the end-users, offering them a seamless and user-friendly experience.\n",
    "\n",
    "Through this detailed exposition, we hope to provide a comprehensive insight into our development journey, highlighting the thought processes, challenges, and solutions that shaped our assignment selector tool."
   ]
  },
  {
   "cell_type": "markdown",
   "metadata": {},
   "source": [
    "<img src=\"{{ site.baseurl }}/images/teacher.png\" alt=\"dd2\">\n",
    "<br>\n",
    "<br>\n",
    "<br>\n",
    "<img src=\"{{ site.baseurl }}/images/teacherui.png\" alt=\"dd2\">\n"
   ]
  },
  {
   "cell_type": "markdown",
   "metadata": {},
   "source": [
    "# Insights\n",
    "\n",
    "<img src=\"{{ site.baseurl }}/images/teacherui.png\" alt=\"dd2\">\n",
    "<img src=\"{{ site.baseurl }}/images/teacherui.png\" alt=\"dd2\">\n"
   ]
  }
 ],
 "metadata": {
  "kernelspec": {
   "display_name": "base",
   "language": "python",
   "name": "python3"
  },
  "language_info": {
   "name": "python",
   "version": "3.9.12"
  }
 },
 "nbformat": 4,
 "nbformat_minor": 2
}
