{
 "cells": [
  {
   "cell_type": "markdown",
   "metadata": {},
   "source": [
    "---\n",
    "layout: post\n",
    "toc: true\n",
    "title: All Sorts Explanation and Proof\n",
    "description: Sorts with Explanation\n",
    "courses: { csp: {week: 29} }\n",
    "type: ccc\n",
    "---"
   ]
  },
  {
   "cell_type": "markdown",
   "metadata": {},
   "source": [
    "# Bubble Sort"
   ]
  },
  {
   "cell_type": "code",
   "execution_count": 1,
   "metadata": {
    "vscode": {
     "languageId": "java"
    }
   },
   "outputs": [
    {
     "name": "stdout",
     "output_type": "stream",
     "text": [
      "Sorted array\n",
      "11 12 22 25 34 64 90 "
     ]
    }
   ],
   "source": [
    "public class BubbleSort {\n",
    "    // The bubbleSort method implements the bubble sort algorithm.\n",
    "    void bubbleSort(int arr[]) {\n",
    "        int n = arr.length; // n is the length of the array\n",
    "        // Outer loop goes through each element of the array\n",
    "        for (int i = 0; i < n-1; i++)\n",
    "            // Inner loop for each element goes through the array from the start to the element before the last sorted element\n",
    "            for (int j = 0; j < n-i-1; j++)\n",
    "                // If the current element is greater than the next element, they are swapped\n",
    "                if (arr[j] > arr[j+1]) {\n",
    "                    // Swap arr[j+1] and arr[j]\n",
    "                    int temp = arr[j];\n",
    "                    arr[j] = arr[j+1];\n",
    "                    arr[j+1] = temp;\n",
    "                }\n",
    "    }\n",
    "\n",
    "    // The main method to execute the bubble sort\n",
    "    public static void main(String args[]) {\n",
    "        BubbleSort ob = new BubbleSort(); // Creating an instance of BubbleSort\n",
    "        int arr[] = {64, 34, 25, 12, 22, 11, 90}; // Example array\n",
    "        ob.bubbleSort(arr); // Calling the bubbleSort method\n",
    "        System.out.println(\"Sorted array\"); // Printing the sorted array\n",
    "        for (int i=0; i < arr.length; i++)\n",
    "            System.out.print(arr[i] + \" \");\n",
    "    }\n",
    "}\n",
    "\n",
    "BubbleSort.main(null);"
   ]
  },
  {
   "cell_type": "markdown",
   "metadata": {},
   "source": [
    "# Insertion Sort"
   ]
  },
  {
   "cell_type": "code",
   "execution_count": 2,
   "metadata": {
    "vscode": {
     "languageId": "java"
    }
   },
   "outputs": [
    {
     "name": "stdout",
     "output_type": "stream",
     "text": [
      "Sorted array\n",
      "5 6 11 12 13 "
     ]
    }
   ],
   "source": [
    "public class InsertionSort {\n",
    "    // The insertionSort method implements the insertion sort algorithm.\n",
    "    void insertionSort(int arr[]) {\n",
    "        int n = arr.length; // n is the length of the array\n",
    "        // Outer loop starts from the second element because we consider the first element as already sorted.\n",
    "        for (int i=1; i<n; ++i) {\n",
    "            int key = arr[i]; // The current element to be inserted into the sorted section of the array\n",
    "            int j = i - 1; // Start comparing with the element before i\n",
    "\n",
    "            // Move elements of arr[0..i-1], that are greater than key, to one position ahead of their current position\n",
    "            while (j>=0 && arr[j] > key) {\n",
    "                arr[j+1] = arr[j];\n",
    "                j = j-1;\n",
    "            }\n",
    "            arr[j+1] = key; // Insert the key at its correct position\n",
    "        }\n",
    "    }\n",
    "\n",
    "    // The main method to execute the insertion sort\n",
    "    public static void main(String args[]) {\n",
    "        InsertionSort ob = new InsertionSort(); // Creating an instance of InsertionSort\n",
    "        int arr[] = {12, 11, 13, 5, 6}; // Example array\n",
    "        ob.insertionSort(arr); // Calling the insertionSort method\n",
    "        System.out.println(\"Sorted array\"); // Printing the sorted array\n",
    "        for (int i=0; i < arr.length; i++)\n",
    "            System.out.print(arr[i] + \" \");\n",
    "    }\n",
    "}\n",
    "\n",
    "InsertionSort.main(null);"
   ]
  },
  {
   "cell_type": "markdown",
   "metadata": {},
   "source": [
    "# Merge Sort"
   ]
  },
  {
   "cell_type": "code",
   "execution_count": 3,
   "metadata": {
    "vscode": {
     "languageId": "java"
    }
   },
   "outputs": [
    {
     "name": "stdout",
     "output_type": "stream",
     "text": [
      "\n",
      "Sorted array\n",
      "5 6 7 11 12 13 "
     ]
    }
   ],
   "source": [
    "public class MergeSort {\n",
    "    // Merges two subarrays of arr[].\n",
    "    void merge(int arr[], int l, int m, int r) {\n",
    "        // Find sizes of two subarrays to be merged\n",
    "        int n1 = m - l + 1;\n",
    "        int n2 = r - m;\n",
    "\n",
    "        /* Create temp arrays */\n",
    "        int L[] = new int [n1];\n",
    "        int R[] = new int [n2];\n",
    "\n",
    "        /*Copy data to temp arrays*/\n",
    "        for (int i=0; i<n1; ++i)\n",
    "            L[i] = arr[l + i];\n",
    "        for (int j=0; j<n2; ++j)\n",
    "            R[j] = arr[m + 1+ j];\n",
    "\n",
    "        /* Merge the temp arrays */\n",
    "\n",
    "        // Initial indexes of first and second subarrays\n",
    "        int i = 0, j = 0;\n",
    "\n",
    "        // Initial index of merged subarray\n",
    "        int k = l;\n",
    "        while (i < n1 && j < n2) {\n",
    "            if (L[i] <= R[j]) {\n",
    "                arr[k] = L[i];\n",
    "                i++;\n",
    "            } else {\n",
    "                arr[k] = R[j];\n",
    "                j++;\n",
    "            }\n",
    "            k++;\n",
    "        }\n",
    "\n",
    "        /* Copy remaining elements of L[] if any */\n",
    "        while (i < n1) {\n",
    "            arr[k] = L[i];\n",
    "            i++;\n",
    "            k++;\n",
    "        }\n",
    "\n",
    "        /* Copy remaining elements of R[] if any */\n",
    "        while (j < n2) {\n",
    "            arr[k] = R[j];\n",
    "            j++;\n",
    "            k++;\n",
    "        }\n",
    "    }\n",
    "\n",
    "    // Main function that sorts arr[l..r] using merge()\n",
    "    void sort(int arr[], int l, int r) {\n",
    "        if (l < r) {\n",
    "            // Find the middle point to divide the array into two halves\n",
    "            int m = (l+r)/2;\n",
    "\n",
    "            // Sort first and second halves\n",
    "            sort(arr, l, m);\n",
    "            sort(arr , m+1, r);\n",
    "\n",
    "            // Merge the sorted halves\n",
    "            merge(arr, l, m, r);\n",
    "        }\n",
    "    }\n",
    "\n",
    "    // The main method to execute merge sort\n",
    "    public static void main(String args[]) {\n",
    "        MergeSort ob = new MergeSort(); // Creating an instance of MergeSort\n",
    "        int arr[] = {12, 11, 13, 5, 6, 7}; // Example array\n",
    "        ob.sort(arr, 0, arr.length-1); // Calling the sort method\n",
    "        System.out.println(\"\\nSorted array\"); // Printing the sorted array\n",
    "        for (int i=0; i<arr.length; i++)\n",
    "            System.out.print(arr[i] + \" \");\n",
    "    }\n",
    "}\n",
    "\n",
    "MergeSort.main(null);"
   ]
  },
  {
   "cell_type": "markdown",
   "metadata": {},
   "source": [
    "# Selection Sort"
   ]
  },
  {
   "cell_type": "code",
   "execution_count": 4,
   "metadata": {
    "vscode": {
     "languageId": "java"
    }
   },
   "outputs": [
    {
     "name": "stdout",
     "output_type": "stream",
     "text": [
      "Sorted array\n",
      "11 12 22 25 64 "
     ]
    }
   ],
   "source": [
    "public class SelectionSort {\n",
    "    // The selectionSort method implements the selection sort algorithm.\n",
    "    void selectionSort(int arr[]) {\n",
    "        int n = arr.length; // n is the length of the array\n",
    "\n",
    "        // One by one move boundary of unsorted subarray\n",
    "        for (int i = 0; i < n-1; i++) {\n",
    "            // Find the minimum element in unsorted array\n",
    "            int min_idx = i;\n",
    "            for (int j = i+1; j < n; j++)\n",
    "                if (arr[j] < arr[min_idx])\n",
    "                    min_idx = j;\n",
    "\n",
    "            // Swap the found minimum element with the first element\n",
    "            int temp = arr[min_idx];\n",
    "            arr[min_idx] = arr[i];\n",
    "            arr[i] = temp;\n",
    "        }\n",
    "    }\n",
    "\n",
    "    // The main method to execute selection sort\n",
    "    public static void main(String args[]) {\n",
    "        SelectionSort ob = new SelectionSort(); // Creating an instance of SelectionSort\n",
    "        int arr[] = {64,25,12,22,11}; // Example array\n",
    "        ob.selectionSort(arr); // Calling the selectionSort method\n",
    "        System.out.println(\"Sorted array\"); // Printing the sorted array\n",
    "        for (int i=0; i<arr.length; i++)\n",
    "            System.out.print(arr[i] + \" \");\n",
    "    }\n",
    "}\n",
    "\n",
    "SelectionSort.main(null);"
   ]
  }
 ],
 "metadata": {
  "kernelspec": {
   "display_name": "Java",
   "language": "java",
   "name": "java"
  },
  "language_info": {
   "codemirror_mode": "java",
   "file_extension": ".jshell",
   "mimetype": "text/x-java-source",
   "name": "Java",
   "pygments_lexer": "java",
   "version": "22+36-2370"
  }
 },
 "nbformat": 4,
 "nbformat_minor": 2
}
