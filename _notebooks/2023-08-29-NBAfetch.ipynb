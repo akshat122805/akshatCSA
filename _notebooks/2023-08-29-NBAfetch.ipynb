{
 "cells": [
  {
   "cell_type": "markdown",
   "metadata": {},
   "source": [
    "---\n",
    "toc: true\n",
    "comments: true\n",
    "layout: post\n",
    "title: NBA API Fetch\n",
    "description: LETS FETCH NBA DATA\n",
    "courses: { csp: {week: 0} }\n",
    "type: hacks\n",
    "---"
   ]
  },
  {
   "cell_type": "code",
   "execution_count": 1,
   "metadata": {},
   "outputs": [
    {
     "name": "stdout",
     "output_type": "stream",
     "text": [
      "Teams sorted by value:\n",
      "('Toronto Maple Leafs', 'NHL', 1917, 'Ice Hockey', 80000000)\n",
      "('Liverpool', 'Premier League', 1892, 'Football', 100000000)\n",
      "('New York Yankees', 'MLB', 1901, 'Baseball', 120000000)\n",
      "('Golden State Warriors', 'NBA', 1946, 'Basketball', 150000000)\n",
      "Teams sorted by year of establishment:\n",
      "('Golden State Warriors', 'NBA', 1946, 'Basketball', 150000000)\n",
      "('Toronto Maple Leafs', 'NHL', 1917, 'Ice Hockey', 80000000)\n",
      "('New York Yankees', 'MLB', 1901, 'Baseball', 120000000)\n",
      "('Liverpool', 'Premier League', 1892, 'Football', 100000000)\n",
      "Teams sorted by team name:\n",
      "('Golden State Warriors', 'NBA', 1946, 'Basketball', 150000000)\n",
      "('Liverpool', 'Premier League', 1892, 'Football', 100000000)\n",
      "('New York Yankees', 'MLB', 1901, 'Baseball', 120000000)\n",
      "('Toronto Maple Leafs', 'NHL', 1917, 'Ice Hockey', 80000000)\n"
     ]
    }
   ],
   "source": [
    "# list of teams\n",
    "teams = [\n",
    "('Liverpool', 'Premier League', 1892, 'Football', 100000000),\n",
    "('Golden State Warriors', 'NBA', 1946, 'Basketball', 150000000),\n",
    "('New York Yankees', 'MLB', 1901, 'Baseball', 120000000),\n",
    "('Toronto Maple Leafs', 'NHL', 1917, 'Ice Hockey', 80000000)\n",
    "]\n",
    "\n",
    "# bubble sort teams by price ascending\n",
    "def bubble_sort(teams):\n",
    "    n = len(teams)\n",
    "    for i in range(n):\n",
    "        for j in range(0, n-i-1):\n",
    "            if teams[j][4] > teams[j+1][4]:\n",
    "                teams[j], teams[j+1] = teams[j+1], teams[j]\n",
    "    return teams\n",
    "\n",
    "sorted_teams = bubble_sort(teams)\n",
    "print(\"Teams sorted by value:\")\n",
    "for team in sorted_teams:\n",
    "    print(team)\n",
    "    \n",
    "# insertion sort teams by year of organization descending\n",
    "def insertion_sort(teams):\n",
    "    for i in range(1, len(teams)):\n",
    "        key = teams[i]\n",
    "        j = i-1\n",
    "        while j >=0 and key[2] > teams[j][2]:\n",
    "            teams[j+1] = teams[j]\n",
    "            j -= 1\n",
    "        teams[j+1] = key\n",
    "    return teams\n",
    "\n",
    "sorted_teams = insertion_sort(teams)\n",
    "print(\"Teams sorted by year of establishment:\")\n",
    "for team in sorted_teams:\n",
    "    print(team)\n",
    "\n",
    "# selection sort teams by league name alphabetical\n",
    "def selection_sort(teams):\n",
    "    for i in range(len(teams)):\n",
    "        min_index = i\n",
    "        for j in range(i+1, len(teams)):\n",
    "            if teams[j][0] < teams[min_index][0]:\n",
    "                min_index = j\n",
    "        teams[i], teams[min_index] = teams[min_index], teams[i]\n",
    "    return teams\n",
    "\n",
    "sorted_teams = selection_sort(teams)\n",
    "print(\"Teams sorted by team name:\")\n",
    "for team in sorted_teams:\n",
    "    print(team)"
   ]
  }
 ],
 "metadata": {
  "kernelspec": {
   "display_name": "base",
   "language": "python",
   "name": "python3"
  },
  "language_info": {
   "codemirror_mode": {
    "name": "ipython",
    "version": 3
   },
   "file_extension": ".py",
   "mimetype": "text/x-python",
   "name": "python",
   "nbconvert_exporter": "python",
   "pygments_lexer": "ipython3",
   "version": "3.9.12"
  },
  "orig_nbformat": 4
 },
 "nbformat": 4,
 "nbformat_minor": 2
}
