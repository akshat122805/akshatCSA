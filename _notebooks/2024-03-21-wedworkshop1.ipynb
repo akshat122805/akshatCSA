{
 "cells": [
  {
   "cell_type": "markdown",
   "metadata": {},
   "source": [
    "---\n",
    "layout: post\n",
    "title: CSA Workshop 1 Hacks\n",
    "toc: true\n",
    "comments: true\n",
    "description: \n",
    "courses: { csa: {week: 33} }\n",
    "type: tangibles\n",
    "---"
   ]
  },
  {
   "cell_type": "markdown",
   "metadata": {},
   "source": [
    "<h1>Question 2: Iteration over 2D Arrays (Unit 4)</h1>"
   ]
  },
  {
   "cell_type": "markdown",
   "metadata": {},
   "source": [
    "Situation: You are developing a game where you need to track player scores on a 2D grid representing levels and attempts.\n",
    "\n",
    "(a) Explain the concept of iteration over a 2D array in Java. Provide an example scenario where iterating over a 2D array is useful in a programming task.\n",
    "\n",
    "**When iterating over a 2D array in Java, you traverse through each element of the array using nested loops. One loop will iterate over the rows and the other loop will iterate over the columns of the array. An example scenario where iterating over a 2D array is useful in a programming task is when going through matrix operations (mathematics). When operating over a matrix, you have to go through each element and perform different mathematical operations.**\n",
    "\n"
   ]
  },
  {
   "cell_type": "markdown",
   "metadata": {},
   "source": [
    "(b) Code:\n",
    "\n",
    "You need to implement a method calculateTotalScore that takes a 2D array scores of integers representing player scores and returns the sum of all the elements in the array. Write the method signature and the method implementation. Include comments to explain your code."
   ]
  },
  {
   "cell_type": "code",
   "execution_count": null,
   "metadata": {
    "vscode": {
     "languageId": "java"
    }
   },
   "outputs": [],
   "source": [
    "class PointsSummation {\n",
    "\n",
    "    // Function to sum up all points across participants\n",
    "    public static int sumAllPoints(int[][] pointsMatrix) {\n",
    "        int sumOfPoints = 0; // Starting sum of points\n",
    "        \n",
    "        // Loop through each participant's points\n",
    "        for (int participant = 0; participant < pointsMatrix.length; participant++) {\n",
    "            // Loop through the points for each participant\n",
    "            for (int point = 0; point < pointsMatrix[participant].length; point++) {\n",
    "                sumOfPoints += pointsMatrix[participant][point]; // Increment the total sum with the participant's points\n",
    "            }\n",
    "        }\n",
    "        \n",
    "        return sumOfPoints; // Return the accumulated points\n",
    "    }\n",
    "\n",
    "    public static void main(String[] args) {\n",
    "        // Data structure for holding the points per participant\n",
    "        int[][] participantPoints = {\n",
    "            {10, 20, 30},\n",
    "            {15, 25, 35},\n",
    "            {12, 22, 32}\n",
    "        };\n",
    "        \n",
    "        // Aggregate of points\n",
    "        int aggregatedPoints = sumAllPoints(participantPoints);\n",
    "        \n",
    "        // Display the total aggregated points\n",
    "        System.out.println(\"Aggregated Points: \" + aggregatedPoints);\n",
    "    }\n",
    "}\n",
    "\n",
    "PointsSummation.main(null);\n"
   ]
  },
  {
   "cell_type": "markdown",
   "metadata": {},
   "source": [
    "<h1>Question 4: Math Class (Unit 2)</h1>"
   ]
  },
  {
   "cell_type": "markdown",
   "metadata": {},
   "source": [
    "(a) Discuss the purpose and utility of the Math class in Java programming. Provide examples of at least three methods provided by the Math class and explain their usage.\n",
    "\n",
    "**The Math class in Java provides a set of methods for performing math operations. It is a class that has many static methods and constants for common mathematical functions and constants.**\n",
    "\n"
   ]
  },
  {
   "cell_type": "markdown",
   "metadata": {},
   "source": [
    "(b) You need to implement a method calculateSquareRoot that takes a double number as input and returns its square root using the Math class. Write the method signature and the method implementation. Include comments to explain your code."
   ]
  },
  {
   "cell_type": "code",
   "execution_count": null,
   "metadata": {
    "vscode": {
     "languageId": "groovy"
    }
   },
   "outputs": [],
   "source": [
    "class RootFinder {\n",
    "    \n",
    "    // Function for finding the square root\n",
    "    public static double findRoot(double value) {\n",
    "        double rootResult = Math.sqrt(value); // Applying square root operation\n",
    "        return rootResult; // Returning the result\n",
    "    }\n",
    "\n",
    "    public static void main(String[] args) {\n",
    "        double valueToFindRootOf = 25.0; // Example value\n",
    "        double resultRoot = findRoot(valueToFindRootOf); // Finding square root\n",
    "        System.out.println(\"Root of \" + valueToFindRootOf + \" is \" + resultRoot); // Outputting the root\n",
    "    }\n",
    "}\n",
    "\n",
    "RootFinder.main(null);"
   ]
  },
  {
   "cell_type": "markdown",
   "metadata": {},
   "source": [
    "<h1>Question 5: If, While, Else (Unit 3-4)</h1>"
   ]
  },
  {
   "cell_type": "markdown",
   "metadata": {},
   "source": [
    "(a) Explain the roles and usage of the if statement, while loop, and else statement in Java programming. Provide examples illustrating each.\n",
    "\n",
    "**If statements allow you to execute a block of code only if a specified condition is true.**\n"
   ]
  },
  {
   "cell_type": "code",
   "execution_count": null,
   "metadata": {
    "vscode": {
     "languageId": "java"
    }
   },
   "outputs": [],
   "source": [
    "if (condition) {\n",
    "    // if condition is true -->, executes this code here\n",
    "}"
   ]
  }
 ],
 "metadata": {
  "language_info": {
   "name": "python"
  }
 },
 "nbformat": 4,
 "nbformat_minor": 2
}
