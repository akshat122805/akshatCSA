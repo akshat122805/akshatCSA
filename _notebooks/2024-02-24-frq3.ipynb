{
 "cells": [
  {
   "cell_type": "markdown",
   "metadata": {},
   "source": [
    "---\n",
    "layout: post\n",
    "title: CSA Finals Week - Question 3 FRQ\n",
    "toc: true\n",
    "comments: true\n",
    "description: Proof of learning, coding, note-taking\n",
    "---"
   ]
  },
  {
   "cell_type": "markdown",
   "metadata": {},
   "source": [
    "# Question 3 - 2D Arrays"
   ]
  },
  {
   "cell_type": "markdown",
   "metadata": {},
   "source": [
    "#### PART A: Write the SparseArray method getValueAt. The method returns the value of the sparse array element at a given row and column in the sparse array. If the list entries contains an entry with the specified row and column, the value associated with the entry is returned. If there is no entry in entries corresponding to the specified row and column, 0 is returned. In the example above, the call sparse.getValueAt(3, 1) would return -9, and sparse.getValueAt(3, 3) would return 0.\n",
    "\n"
   ]
  },
  {
   "cell_type": "code",
   "execution_count": 6,
   "metadata": {
    "vscode": {
     "languageId": "java"
    }
   },
   "outputs": [
    {
     "name": "stdout",
     "output_type": "stream",
     "text": [
      "Score at seat (1, 1): 85\n",
      "Score at seat (2, 3): 90\n",
      "Score at seat (4, 2): 75\n",
      "Score at seat (3, 3): 0\n"
     ]
    }
   ],
   "source": [
    "import java.util.ArrayList;\n",
    "\n",
    "class SeatScoreEntry {\n",
    "    private int row;\n",
    "    private int column;\n",
    "    private int score;\n",
    "\n",
    "    //this is a constructor to start SeatScoreEntry\n",
    "    public SeatScoreEntry(int row, int column, int score) {\n",
    "        this.row = row;\n",
    "        this.column = column;\n",
    "        this.score = score;\n",
    "    }\n",
    "    //setters and getters for rows\n",
    "    public int getRow() {\n",
    "        return row;\n",
    "    }\n",
    "//setters and getters for column\n",
    "    public int getColumn() {\n",
    "        return column;\n",
    "    }\n",
    "//setters and getters for score\n",
    "    public int getScore() {\n",
    "        return score;\n",
    "    }\n",
    "}\n",
    "\n",
    "class ClassroomScores {\n",
    "    private ArrayList<SeatScoreEntry> scores;\n",
    "    //new constructor for classroom scores\n",
    "    public ClassroomScores() {\n",
    "        scores = new ArrayList<>();\n",
    "    }\n",
    "    //this is how a score is added\n",
    "    public void addScore(SeatScoreEntry scoreEntry) {\n",
    "        scores.add(scoreEntry);\n",
    "    }\n",
    "     \n",
    "    // Method to get the score at a specific seat\n",
    "    public int getScoreAt(int row, int column) {\n",
    "        for (SeatScoreEntry entry : scores) {\n",
    "            if (entry.getRow() == row && entry.getColumn() == column) {\n",
    "                return entry.getScore();\n",
    "            }\n",
    "        }\n",
    "        return 0; //this is for if no score is found for the seat\n",
    "    }\n",
    "}\n",
    "\n",
    "public class Main {\n",
    "    public static void main(String[] args) {\n",
    "        ClassroomScores classroom = new ClassroomScores();\n",
    "//adding score entries to the classroom\n",
    "        classroom.addScore(new SeatScoreEntry(1, 1, 85));\n",
    "        classroom.addScore(new SeatScoreEntry(2, 3, 90));\n",
    "        classroom.addScore(new SeatScoreEntry(4, 2, 75));\n",
    "//scores and seats being printed\n",
    "        System.out.println(\"Score at seat (1, 1): \" + classroom.getScoreAt(1, 1)); // Output: 85\n",
    "        System.out.println(\"Score at seat (2, 3): \" + classroom.getScoreAt(2, 3)); // Output: 90\n",
    "        System.out.println(\"Score at seat (4, 2): \" + classroom.getScoreAt(4, 2)); // Output: 75\n",
    "        System.out.println(\"Score at seat (3, 3): \" + classroom.getScoreAt(3, 3)); // Output: 0 (Absent or empty seat)\n",
    "    }\n",
    "}\n",
    "\n",
    "Main.main(null);"
   ]
  },
  {
   "cell_type": "markdown",
   "metadata": {},
   "source": [
    "#### Part A Explanation\n",
    "\n",
    "I decided to focus on a different example other than poker. I used a classroom setting to show the use of a sparse array. Each SeatScoreEntry represents a student's score in a specific seat, and the ClassroomScores class manages these entries. The getScoreAt method retrieves the score for a given seat, returning 0 if the seat is empty or the student was absent, demonstrating a practical application of sparse arrays in managing classroom data.\n"
   ]
  },
  {
   "cell_type": "markdown",
   "metadata": {},
   "source": [
    "#### PART B: Write the SparseArray method removeColumn. After removing a specified column from a sparsearray:\n",
    "\n",
    "All entries in the list entries with column indexes matching col are removed from the list.\n",
    "\n",
    "All entries in the list entries with column indexes greater than col are replaced by entries with column indexes that are decremented by one (moved one column to the left).\n",
    "\n",
    "The number of columns in the sparse array is adjusted to reflect the column removed."
   ]
  },
  {
   "cell_type": "code",
   "execution_count": 10,
   "metadata": {
    "vscode": {
     "languageId": "java"
    }
   },
   "outputs": [
    {
     "name": "stdout",
     "output_type": "stream",
     "text": [
      "Plants at (1, 1): 10\n",
      "Plants at (1, 2): 0\n",
      "Plants at (2, 2): 0\n",
      "Plants at (3, 1): 20\n",
      "Plants at (3, 3): 8\n",
      "NumRows: 3\n",
      "NumCols: 2\n"
     ]
    }
   ],
   "source": [
    "import java.util.ArrayList;\n",
    "import java.util.Iterator;\n",
    "\n",
    "class GardenPlotEntry {\n",
    "    private int row;\n",
    "    private int col;\n",
    "    private int plants;\n",
    "//constructor \n",
    "    public GardenPlotEntry(int row, int col, int plants) {\n",
    "        this.row = row;\n",
    "        this.col = col;\n",
    "        this.plants = plants;\n",
    "    }\n",
    "//setters and getters for row, col, and copies\n",
    "    public int getRow() {\n",
    "        return row;\n",
    "    }\n",
    "\n",
    "    public int getCol() {\n",
    "        return col;\n",
    "    }\n",
    "\n",
    "    public int getPlants() {\n",
    "        return plants;\n",
    "    }\n",
    "}\n",
    "//garden and plots\n",
    "class Garden {\n",
    "    //array for all garden plots stored\n",
    "    private ArrayList<GardenPlotEntry> plots;\n",
    "    private int numRows;\n",
    "    private int numCols;\n",
    "\n",
    "    public Garden(int numRows, int numCols) {\n",
    "        plots = new ArrayList<>();\n",
    "        this.numRows = numRows;\n",
    "        this.numCols = numCols;\n",
    "    }\n",
    "//add a new plot to garden\n",
    "    public void addPlot(GardenPlotEntry plot) {\n",
    "        plots.add(plot);\n",
    "    }\n",
    "\n",
    "    public void removeColumn(int col) {\n",
    "        Iterator<GardenPlotEntry> iterator = plots.iterator();\n",
    "        while (iterator.hasNext()) {\n",
    "            GardenPlotEntry plot = iterator.next();\n",
    "            if (plot.getCol() == col) {\n",
    "                iterator.remove();\n",
    "            } else if (plot.getCol() > col) {\n",
    "                // Update the column index for plots to the right of the removed column\n",
    "                plot = new GardenPlotEntry(plot.getRow(), plot.getCol() - 1, plot.getPlants());\n",
    "            }\n",
    "        }\n",
    "        numCols--; // Adjust the total number of columns in the garden\n",
    "    }\n",
    "\n",
    "    public int getPlantsAt(int row, int col) {\n",
    "        for (GardenPlotEntry plot : plots) {\n",
    "            if (plot.getRow() == row && plot.getCol() == col) {\n",
    "                return plot.getPlants();\n",
    "            }\n",
    "        }\n",
    "        return 0; // Return 0 if no plants are found at the specified location\n",
    "    }\n",
    "\n",
    "    public int getNumRows() {\n",
    "        return numRows;\n",
    "    }\n",
    "\n",
    "    public int getNumCols() {\n",
    "        return numCols;\n",
    "    }\n",
    "}\n",
    "\n",
    "public class Main {\n",
    "    public static void main(String[] args) {\n",
    "        //create a new garden 3x3\n",
    "        Garden garden = new Garden(3, 3);\n",
    "\n",
    "        // Adding some plots with plants\n",
    "        garden.addPlot(new GardenPlotEntry(1, 1, 10));\n",
    "        garden.addPlot(new GardenPlotEntry(1, 2, 15));\n",
    "        garden.addPlot(new GardenPlotEntry(2, 2, 5));\n",
    "        garden.addPlot(new GardenPlotEntry(3, 1, 20));\n",
    "        garden.addPlot(new GardenPlotEntry(3, 3, 8));\n",
    "\n",
    "        // Removing column 2 from the garden\n",
    "        garden.removeColumn(2);\n",
    "\n",
    "        // Testing the getPlantsAt method\n",
    "        System.out.println(\"Plants at (1, 1): \" + garden.getPlantsAt(1, 1)); // Output: 10\n",
    "        System.out.println(\"Plants at (1, 2): \" + garden.getPlantsAt(1, 2)); // Output: 0 (removed)\n",
    "        System.out.println(\"Plants at (2, 2): \" + garden.getPlantsAt(2, 2)); // Output: 5\n",
    "        System.out.println(\"Plants at (3, 1): \" + garden.getPlantsAt(3, 1)); // Output: 20\n",
    "        System.out.println(\"Plants at (3, 3): \" + garden.getPlantsAt(3, 3)); // Output: 8\n",
    "\n",
    "        System.out.println(\"NumRows: \" + garden.getNumRows()); // Output: 3\n",
    "        System.out.println(\"NumCols: \" + garden.getNumCols()); // Output: 2\n",
    "    }\n",
    "}\n",
    "\n",
    "Main.main(null);"
   ]
  },
  {
   "cell_type": "markdown",
   "metadata": {},
   "source": [
    "#### Part B Explanation:\n",
    "\n",
    "This version reimagines the SparseArray as a Garden class, managing a sparse array of GardenPlotEntry objects that represent the number of plants in each plot of a garden grid. The removeColumn method simulates the effect of removing a garden column, including updating the positions of the remaining plots and adjusting the garden's column count. This example demonstrates how the concept of sparse arrays can be applied to different scenarios beyond the original classroom or array-based contexts."
   ]
  }
 ],
 "metadata": {
  "kernelspec": {
   "display_name": "Java",
   "language": "java",
   "name": "java"
  },
  "language_info": {
   "codemirror_mode": "java",
   "file_extension": ".jshell",
   "mimetype": "text/x-java-source",
   "name": "Java",
   "pygments_lexer": "java",
   "version": "11.0.20+8-post-Ubuntu-1ubuntu120.04"
  }
 },
 "nbformat": 4,
 "nbformat_minor": 2
}
