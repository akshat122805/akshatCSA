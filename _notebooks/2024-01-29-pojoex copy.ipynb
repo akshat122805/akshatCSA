{
 "cells": [
  {
   "cell_type": "markdown",
   "metadata": {},
   "source": [
    "---\n",
    "layout: post\n",
    "title: POJO Practice\n",
    "toc: true\n",
    "comments: true\n",
    "description: learning/testing code!\n",
    "courses: { csa: {week: 12} }\n",
    "type: hacks\n",
    "---"
   ]
  },
  {
   "cell_type": "code",
   "execution_count": null,
   "metadata": {},
   "outputs": [],
   "source": [
    "public class Person {\n",
    "    private String name;\n",
    "    private int age;\n",
    "    // Default constructor\n",
    "    public Person() {\n",
    "    }\n",
    "    // Constructor with parameters\n",
    "    public Person(String name, int age) {\n",
    "        this.name = name;\n",
    "        this.age = age;\n",
    "    }\n",
    "    // Getter for name\n",
    "    public String getName() {\n",
    "        return name;\n",
    "    }\n",
    "    // Setter for name\n",
    "    public void setName(String name) {\n",
    "        this.name = name;\n",
    "    }\n",
    "    // Getter for age\n",
    "    public int getAge() {\n",
    "        return age;\n",
    "    }\n",
    "    // Setter for age\n",
    "    public void setAge(int age) {\n",
    "        this.age = age;\n",
    "    }"
   ]
  }
 ],
 "metadata": {
  "kernelspec": {
   "display_name": "Java",
   "language": "java",
   "name": "java"
  },
  "language_info": {
   "name": "java"
  }
 },
 "nbformat": 4,
 "nbformat_minor": 2
}
