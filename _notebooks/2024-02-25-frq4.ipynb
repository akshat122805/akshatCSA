{
 "cells": [
  {
   "cell_type": "markdown",
   "metadata": {},
   "source": [
    "---\n",
    "layout: post\n",
    "title: CSA Finals Week - Question 4 FRQ\n",
    "toc: true\n",
    "comments: true\n",
    "description: Proof of learning, coding, note-taking\n",
    "---"
   ]
  },
  {
   "cell_type": "markdown",
   "metadata": {},
   "source": [
    "# QUESTION 4: METHODS AND CONTROL STRUCTURES\n",
    "\n",
    "\t\n",
    "#### PART A: A number group represents a group of integers defined in some way. It could be empty, or it could contain one or more integers.\n",
    "\n",
    "Write an interface named NumberGroup that represents a group of integers. The interface should have a single contains method that determines if a given integer is in the group. For example, if group1 is of type NumberGroup, and it contains only the two numbers -5 and 3, then group1.contains(-5) would return true, and group1.contains(2) would return false. Write the complete NumberGroup interface. It must have exactly one method."
   ]
  },
  {
   "cell_type": "code",
   "execution_count": 3,
   "metadata": {
    "vscode": {
     "languageId": "java"
    }
   },
   "outputs": [],
   "source": [
    "import java.util.List;\n",
    "import java.util.ArrayList;\n",
    "\n",
    "interface NumberGroup {\n",
    "    boolean contains(int messageId);\n",
    "}\n",
    "\n",
    "class MessageList implements NumberGroup {\n",
    "    private List<Integer> messageIds;\n",
    "\n",
    "    public MessageList(List<Integer> messageIds) {\n",
    "        this.messageIds = messageIds;\n",
    "    }\n",
    "\n",
    "    @Override\n",
    "    public boolean contains(int messageId) {\n",
    "        return messageIds.contains(messageId);\n",
    "    }\n",
    "}\n",
    "\n",
    "public class Main {\n",
    "    public static void main(String[] args) {\n",
    "        MessageList chatGroup = new MessageList(new ArrayList<>(List.of(101, 102, 103, 104)));\n",
    "        System.out.println(\"Does the chat contain message ID 102? \" + chatGroup.contains(102)); // true\n",
    "        System.out.println(\"Does the chat contain message ID 105? \" + chatGroup.contains(105));  // false\n",
    "    }\n",
    "}\n"
   ]
  },
  {
   "cell_type": "markdown",
   "metadata": {},
   "source": [
    "#### Part A Explanation"
   ]
  },
  {
   "cell_type": "markdown",
   "metadata": {},
   "source": [
    "#### PART B: A range represents a number group that contains all (and only) the integers between a minimum value and a maximum value, inclusive. Write the Range class, which is a NumberGroup. The Range class represents the group of int values that range from a given minimum value up through a given maximum value, inclusive. For example, the declaration\n",
    "\n",
    "NumberGroup range1 = new Range(-3, 2);\n",
    "\n",
    "represents the group of integer values -3, -2, -1, 0, 1, 2.\n",
    "\n",
    "Write the complete Range class. Include all necessary instance variables and methods as well as a constructor that takes two int parameters. The first parameter represents the minimum value, and the second parameter represents the maximum value of the range. You may assume that the minimum is less than or equal to the maximum."
   ]
  },
  {
   "cell_type": "markdown",
   "metadata": {},
   "source": [
    "#### Part A Explanation \n",
    "\n",
    "The NumberGroup interface is used to represent a collection of message IDs, with the contains method checking if a specific message ID is part of the group.\n",
    "\n",
    "The IntegerList class is now called MessageList, tailored to hold a list of message IDs for a chat group or social media conversation. It implements the NumberGroup interface to provide functionality for checking the presence of a message ID.\n",
    "\n",
    "The main method demonstrates creating a MessageGroup with a list of message IDs and querying this group to see if certain message IDs are included.\n",
    "\n",
    "This example illustrates how the original concept of managing a group of integers can be creatively adapted to different domains, such as managing message IDs in a messaging or social media application."
   ]
  },
  {
   "cell_type": "code",
   "execution_count": 4,
   "metadata": {
    "vscode": {
     "languageId": "java"
    }
   },
   "outputs": [],
   "source": [
    "import java.time.LocalDate;\n",
    "import java.time.temporal.ChronoUnit;\n",
    "\n",
    "public class Main {\n",
    "    public static void main(String[] args) {\n",
    "        NumberGroup dateRange = new DateRange(LocalDate.of(2023, 1, 1), LocalDate.of(2023, 12, 31));\n",
    "        System.out.println(dateRange.contains(15)); // true, assuming this checks for January 15, 2023\n",
    "        System.out.println(dateRange.contains(365)); // true, assuming this checks for December 31, 2023 (non-leap year)\n",
    "        System.out.println(dateRange.contains(366)); // false\n",
    "    }\n",
    "\n",
    "    public interface NumberGroup {\n",
    "        boolean contains(int dayOfYear);\n",
    "    }\n",
    "\n",
    "    public static class DateRange implements NumberGroup {\n",
    "        private LocalDate startDate;\n",
    "        private LocalDate endDate;\n",
    "\n",
    "        public DateRange(LocalDate startDate, LocalDate endDate) {\n",
    "            this.startDate = startDate;\n",
    "            this.endDate = endDate;\n",
    "        }\n",
    "\n",
    "        @Override\n",
    "        public boolean contains(int dayOfYear) {\n",
    "            LocalDate dateToCheck = LocalDate.ofYearDay(startDate.getYear(), dayOfYear);\n",
    "            return !dateToCheck.isBefore(startDate) && !dateToCheck.isAfter(endDate);\n",
    "        }\n",
    "    }\n",
    "}"
   ]
  },
  {
   "cell_type": "markdown",
   "metadata": {},
   "source": [
    " #### Part B Explanation\n",
    " \n",
    " The NumberGroup interface is adapted to work with dates by considering the contains method's integer parameter as the day of the year.\n",
    "\n",
    "The DateRange class represents a range of dates between a startDate and an endDate, both inclusive.\n",
    "\n",
    "The contains method checks if a given day of the year falls within the range. This is a simplification and assumes all checks are within the same year as the startDate.\n",
    "\n",
    "This example demonstrates adapting the range concept to a different domain, using dates instead of integers. It's a basic illustration and might need adjustments for practical applications, especially considering leap years and supporting dates across different years more robustly.\n"
   ]
  },
  {
   "cell_type": "markdown",
   "metadata": {},
   "source": [
    "#### PART C: The MultipleGroups class (not shown) represents a collection of NumberGroup objects and isa NumberGroup. The MultipleGroups class stores the number groups in the instance variable groupList (shown below), which is initialized in the constructor.\n",
    "\n",
    "private List groupList;\n",
    "\n",
    "Write the MultipleGroups method contains. The method takes an integer and returns true if and only if the integer is contained in one or more of the number groups in groupList.\n",
    "\n",
    "For example, suppose multiple1 has been declared as an instance of MultipleGroups and consists of the three ranges created by the calls new Range(5, 8), new Range(10, 12), and new Range(1, 6). The following table shows the results of several calls to contains."
   ]
  },
  {
   "cell_type": "code",
   "execution_count": 5,
   "metadata": {
    "vscode": {
     "languageId": "java"
    }
   },
   "outputs": [],
   "source": [
    "import java.util.ArrayList;\n",
    "import java.util.List;\n",
    "\n",
    "public class Main {\n",
    "    public static void main(String[] args) {\n",
    "        List<NumberGroup> channels = new ArrayList<>();\n",
    "        channels.add(new MessageChannel(new ArrayList<>(List.of(101, 102, 103))));\n",
    "        channels.add(new MessageChannel(new ArrayList<>(List.of(201, 202, 203))));\n",
    "        channels.add(new MessageChannel(new ArrayList<>(List.of(301, 302, 303))));\n",
    "\n",
    "        MultipleChannels multipleChannels = new MultipleChannels(channels);\n",
    "        \n",
    "        System.out.println(\"Does any channel contain message ID 102? \" + multipleChannels.contains(102)); // true\n",
    "        System.out.println(\"Does any channel contain message ID 205? \" + multipleChannels.contains(205)); // false\n",
    "        System.out.println(\"Does any channel contain message ID 303? \" + multipleChannels.contains(303)); // true\n",
    "    }\n",
    "\n",
    "    public interface NumberGroup {\n",
    "        boolean contains(int messageId);\n",
    "    }\n",
    "\n",
    "    public static class MessageChannel implements NumberGroup {\n",
    "        private List<Integer> messageIds;\n",
    "\n",
    "        public MessageChannel(List<Integer> messageIds) {\n",
    "            this.messageIds = messageIds;\n",
    "        }\n",
    "\n",
    "        @Override\n",
    "        public boolean contains(int messageId) {\n",
    "            return messageIds.contains(messageId);\n",
    "        }\n",
    "    }\n",
    "\n",
    "    public static class MultipleChannels implements NumberGroup {\n",
    "        private List<NumberGroup> channels;\n",
    "\n",
    "        public MultipleChannels(List<NumberGroup> channels) {\n",
    "            this.channels = channels;\n",
    "        }\n",
    "\n",
    "        @Override\n",
    "        public boolean contains(int messageId) {\n",
    "            for (NumberGroup channel : channels) {\n",
    "                if (channel.contains(messageId)) {\n",
    "                    return true;\n",
    "                }\n",
    "            }\n",
    "            return false;\n",
    "        }\n",
    "    }\n",
    "}\n"
   ]
  },
  {
   "cell_type": "markdown",
   "metadata": {},
   "source": [
    "#### Part C Explanation\n",
    "\n",
    "NumberGroup is used to represent a collection of message IDs within a Discord text channel (MessageChannel).\n",
    "\n",
    "Each MessageChannel implements NumberGroup, holding a list of message IDs and providing a method to check if a specific message ID is contained within that channel.\n",
    "\n",
    "MultipleChannels represents a collection of NumberGroup objects (in this case, MessageChannel objects), allowing for a check across multiple text channels to see if a specific message ID exists in any of them.\n",
    "\n",
    "This example demonstrates how the concept of managing groups of numbers (or message IDs, in this case) can be applied to a scenario involving Discord text channels, providing a way to search for messages across multiple channels."
   ]
  }
 ],
 "metadata": {
  "kernelspec": {
   "display_name": "Java",
   "language": "java",
   "name": "java"
  },
  "language_info": {
   "codemirror_mode": "java",
   "file_extension": ".jshell",
   "mimetype": "text/x-java-source",
   "name": "Java",
   "pygments_lexer": "java",
   "version": "11.0.20+8-post-Ubuntu-1ubuntu120.04"
  }
 },
 "nbformat": 4,
 "nbformat_minor": 2
}
